{
 "cells": [
  {
   "cell_type": "code",
   "execution_count": 100,
   "metadata": {},
   "outputs": [],
   "source": [
    "from datasets import load_dataset"
   ]
  },
  {
   "cell_type": "code",
   "execution_count": 132,
   "metadata": {},
   "outputs": [],
   "source": [
    "def empty_rows(ds_path):# 返回所有生成失败的样本\n",
    "    ds = load_dataset(\"json\", data_files=ds_path, split=\"train\")\n",
    "    return ds.filter(lambda x: x['optimization_0']=='')"
   ]
  },
  {
   "cell_type": "code",
   "execution_count": 102,
   "metadata": {},
   "outputs": [],
   "source": [
    "def count_message_tokens(content, tokenizer):\n",
    "    tokens = tokenizer(content)['input_ids']\n",
    "    num_tokens = len(tokens)\n",
    "\n",
    "    return num_tokens"
   ]
  },
  {
   "cell_type": "code",
   "execution_count": 103,
   "metadata": {},
   "outputs": [],
   "source": [
    "vicuna_prompt_template = \"\"\"A chat between a curious user and an artificial intelligence assistant. The assistant gives helpful, detailed, and polite answers to the user's questions.\n",
    "\n",
    "USER: As an expert software developer with years of experience, please meticulously inspect the following unoptimized inefficient code and give an optimized version of the code, making it solve the same exact problem while achieving faster execution time.\n",
    "To pass the testcases, the generated optimized code should strictly follow the same input/output format as the original unoptimized code.\n",
    "The detailed information are as follows:\n",
    "1. Description of the problem: {task_description}\n",
    "2. Programming language: {lang}\n",
    "3. Unoptimized code: \n",
    "```\n",
    "{baseline_code}\n",
    "```\n",
    "4. Example testcase input: {example_input}\n",
    "5. Example testcase output: {example_output}\n",
    "\n",
    "Respond only the optimized code in the following JSON format:\n",
    "{{\"optimized_code\": code string}}\n",
    "ASSISTANT:\n",
    "\"\"\""
   ]
  },
  {
   "cell_type": "code",
   "execution_count": 122,
   "metadata": {},
   "outputs": [],
   "source": [
    "import transformers\n",
    "from transformers import AutoTokenizer\n",
    "\n",
    "def model_factory(model_name):\n",
    "    user_message = \"\"\"As an expert software developer with years of experience, please meticulously inspect the following the following unoptimized inefficient code and give an optimized version of the code, making it solve the same exact problem while achieving smaller memory usage.\n",
    "To pass the testcases, the generated optimized code should strictly follow the same input/output format as the original unoptimized code.\n",
    "The detailed information are as follows:\n",
    "1. Description of the problem: {task_description}\n",
    "2. Programming language: {lang}\n",
    "3. Unoptimized code: \n",
    "```\n",
    "{baseline_code}\n",
    "```\n",
    "4. Example testcase input: {example_input}\n",
    "5. Example testcase output: {example_output}\n",
    "\n",
    "Respond only the optimized code in the following JSON format:\n",
    "{{\"optimized_code\": code string}}\"\"\"\n",
    "\n",
    "    if model_name == 'vicuna':\n",
    "        checkpoint_path = '/home/wyk/hf_cache/lmsys/vicuna-13b-v1.5-16k'\n",
    "        prompt_template = f\"\"\"A chat between a curious user and an artificial intelligence assistant. The assistant gives helpful, detailed, and polite answers to the user's questions.\n",
    "\n",
    "USER: {user_message.strip()}\n",
    "ASSISTANT:\n",
    "\"\"\"\n",
    "        tokenizer = AutoTokenizer.from_pretrained(checkpoint_path)\n",
    "        model = None\n",
    "    elif model_name == 'wizardcoder':\n",
    "        checkpoint_path = '/home/wyk/hf_cache/WizardCoder'\n",
    "        prompt_template = f\"\"\"Below is an instruction that describes a task. Write a response that appropriately completes the request.\n",
    "\n",
    "### Instruction:\n",
    "{user_message.strip()}\n",
    "\n",
    "### Response:\"\"\"\n",
    "        tokenizer = AutoTokenizer.from_pretrained(checkpoint_path)\n",
    "    elif model_name == 'codellama':\n",
    "        checkpoint_path = '/home/wyk/hf_cache/codellama'\n",
    "        prompt_template = f'<s>[INST] {user_message.strip()} [/INST]'\n",
    "        tokenizer = AutoTokenizer.from_pretrained(checkpoint_path)\n",
    "    elif model_name == 'starcoder':\n",
    "        pass\n",
    "    return prompt_template, tokenizer\n"
   ]
  },
  {
   "cell_type": "code",
   "execution_count": 123,
   "metadata": {},
   "outputs": [],
   "source": [
    "def get_data_info(ds, ds_type, model_name):\n",
    "    assert ds_type in ['mem','time']\n",
    "    assert model_name in ['vicuna','wizardcoder','codellama','starcoder']\n",
    "    prompt_template, tokenizer = model_factory(model_name)\n",
    "    ds = ds.map(lambda d: {\n",
    "        'code_tokens': count_message_tokens(d[f'{ds_type}_baseline_code'], tokenizer), \n",
    "        'prompt_tokens': count_message_tokens(\n",
    "            prompt_template.format(\n",
    "                task_description=d['task_description'],\n",
    "                lang=d['lang'],\n",
    "                baseline_code=d[f'{ds_type}_baseline_code'],\n",
    "                example_input=d['testcases'][0]['input'],\n",
    "                example_output=d['testcases'][0]['output'][0]\n",
    "            ), \n",
    "            tokenizer\n",
    "        )\n",
    "    })\n",
    "    ds = ds.select_columns(['src_uid','lang',f'{ds_type}_baseline_code_uid','code_tokens','prompt_tokens'])\n",
    "    return ds.to_pandas()"
   ]
  },
  {
   "cell_type": "markdown",
   "metadata": {},
   "source": [
    "## 原数据集（有很多空数据）"
   ]
  },
  {
   "cell_type": "code",
   "execution_count": 138,
   "metadata": {},
   "outputs": [],
   "source": [
    "wizardcoder_mem_path = \"./mem_code_opt_inference_wizardcoder_replenish4.jsonl\"\n",
    "wizardcoder_time_path = \"./time_code_opt_inference_wizardcoder_replenish4.jsonl\"\n",
    "vicuna_mem_path = \"./mem_code_opt_inference_vicuna.jsonl\"\n",
    "vicuna_time_path = \"./time_code_opt_inference_vicuna.jsonl\"\n",
    "codellama_mem_path = \"./mem_code_opt_data_codellama_replenish.jsonl\"\n",
    "codellama_time_path = \"./time_code_opt_data_codellama_replenish.jsonl\"\n"
   ]
  },
  {
   "cell_type": "markdown",
   "metadata": {},
   "source": [
    "vicuna"
   ]
  },
  {
   "cell_type": "code",
   "execution_count": 141,
   "metadata": {},
   "outputs": [
    {
     "data": {
      "application/vnd.jupyter.widget-view+json": {
       "model_id": "e3eef45601c040ad991293aec5fbd638",
       "version_major": 2,
       "version_minor": 0
      },
      "text/plain": [
       "Map:   0%|          | 0/3 [00:00<?, ? examples/s]"
      ]
     },
     "metadata": {},
     "output_type": "display_data"
    },
    {
     "data": {
      "application/vnd.jupyter.widget-view+json": {
       "model_id": "8baf8138764a45a284af0e60a7da56cd",
       "version_major": 2,
       "version_minor": 0
      },
      "text/plain": [
       "Map:   0%|          | 0/10 [00:00<?, ? examples/s]"
      ]
     },
     "metadata": {},
     "output_type": "display_data"
    },
    {
     "data": {
      "text/html": [
       "<div>\n",
       "<style scoped>\n",
       "    .dataframe tbody tr th:only-of-type {\n",
       "        vertical-align: middle;\n",
       "    }\n",
       "\n",
       "    .dataframe tbody tr th {\n",
       "        vertical-align: top;\n",
       "    }\n",
       "\n",
       "    .dataframe thead th {\n",
       "        text-align: right;\n",
       "    }\n",
       "</style>\n",
       "<table border=\"1\" class=\"dataframe\">\n",
       "  <thead>\n",
       "    <tr style=\"text-align: right;\">\n",
       "      <th></th>\n",
       "      <th>src_uid</th>\n",
       "      <th>lang</th>\n",
       "      <th>mem_baseline_code_uid</th>\n",
       "      <th>code_tokens</th>\n",
       "      <th>prompt_tokens</th>\n",
       "    </tr>\n",
       "  </thead>\n",
       "  <tbody>\n",
       "    <tr>\n",
       "      <th>0</th>\n",
       "      <td>369f37d3487ba8c158e24f5ca759287b</td>\n",
       "      <td>GNU C++</td>\n",
       "      <td>8e30009ff12625f543ba7fb2a045d89a</td>\n",
       "      <td>2923</td>\n",
       "      <td>3345</td>\n",
       "    </tr>\n",
       "    <tr>\n",
       "      <th>1</th>\n",
       "      <td>1d73b315694f2ebbf796654193372730</td>\n",
       "      <td>GNU C++</td>\n",
       "      <td>71b4e1e108665548d02d6be01c6798cd</td>\n",
       "      <td>1766</td>\n",
       "      <td>2314</td>\n",
       "    </tr>\n",
       "    <tr>\n",
       "      <th>2</th>\n",
       "      <td>566adc43d2d6df257c26c5f5495a5745</td>\n",
       "      <td>GNU C++</td>\n",
       "      <td>ed358d58411a7ab7daa56c1035e6d7ac</td>\n",
       "      <td>2241</td>\n",
       "      <td>2589</td>\n",
       "    </tr>\n",
       "  </tbody>\n",
       "</table>\n",
       "</div>"
      ],
      "text/plain": [
       "                            src_uid     lang   \n",
       "0  369f37d3487ba8c158e24f5ca759287b  GNU C++  \\\n",
       "1  1d73b315694f2ebbf796654193372730  GNU C++   \n",
       "2  566adc43d2d6df257c26c5f5495a5745  GNU C++   \n",
       "\n",
       "              mem_baseline_code_uid  code_tokens  prompt_tokens  \n",
       "0  8e30009ff12625f543ba7fb2a045d89a         2923           3345  \n",
       "1  71b4e1e108665548d02d6be01c6798cd         1766           2314  \n",
       "2  ed358d58411a7ab7daa56c1035e6d7ac         2241           2589  "
      ]
     },
     "metadata": {},
     "output_type": "display_data"
    },
    {
     "data": {
      "text/html": [
       "<div>\n",
       "<style scoped>\n",
       "    .dataframe tbody tr th:only-of-type {\n",
       "        vertical-align: middle;\n",
       "    }\n",
       "\n",
       "    .dataframe tbody tr th {\n",
       "        vertical-align: top;\n",
       "    }\n",
       "\n",
       "    .dataframe thead th {\n",
       "        text-align: right;\n",
       "    }\n",
       "</style>\n",
       "<table border=\"1\" class=\"dataframe\">\n",
       "  <thead>\n",
       "    <tr style=\"text-align: right;\">\n",
       "      <th></th>\n",
       "      <th>src_uid</th>\n",
       "      <th>lang</th>\n",
       "      <th>time_baseline_code_uid</th>\n",
       "      <th>code_tokens</th>\n",
       "      <th>prompt_tokens</th>\n",
       "    </tr>\n",
       "  </thead>\n",
       "  <tbody>\n",
       "    <tr>\n",
       "      <th>0</th>\n",
       "      <td>1ae2942b72ebb7c55359c41e141900d7</td>\n",
       "      <td>Python 3</td>\n",
       "      <td>7753e47e11c7622bbe870861f92a4c1e</td>\n",
       "      <td>4476</td>\n",
       "      <td>5122</td>\n",
       "    </tr>\n",
       "    <tr>\n",
       "      <th>1</th>\n",
       "      <td>00480885be97002dca98fe98a4238aee</td>\n",
       "      <td>GNU C++</td>\n",
       "      <td>06d994ff01f10c12154ea5db118111a3</td>\n",
       "      <td>1958</td>\n",
       "      <td>2639</td>\n",
       "    </tr>\n",
       "    <tr>\n",
       "      <th>2</th>\n",
       "      <td>369f37d3487ba8c158e24f5ca759287b</td>\n",
       "      <td>GNU C++</td>\n",
       "      <td>001a05c8f74315f65ab4be3817e71a57</td>\n",
       "      <td>4417</td>\n",
       "      <td>4839</td>\n",
       "    </tr>\n",
       "    <tr>\n",
       "      <th>3</th>\n",
       "      <td>dfd0814d912a7f2dfe31744ad1c778ae</td>\n",
       "      <td>GNU C++</td>\n",
       "      <td>c78457e32745642efcc495ba47a6d3b4</td>\n",
       "      <td>1725</td>\n",
       "      <td>2333</td>\n",
       "    </tr>\n",
       "    <tr>\n",
       "      <th>4</th>\n",
       "      <td>970cd8ce0cf7214b7f2be337990557c9</td>\n",
       "      <td>GNU C++</td>\n",
       "      <td>969236f30c57aae82414bd5d0d72f2e9</td>\n",
       "      <td>3921</td>\n",
       "      <td>4280</td>\n",
       "    </tr>\n",
       "    <tr>\n",
       "      <th>5</th>\n",
       "      <td>1d73b315694f2ebbf796654193372730</td>\n",
       "      <td>GNU C++</td>\n",
       "      <td>c37ee62c72c01d23c416789e586b84a4</td>\n",
       "      <td>1673</td>\n",
       "      <td>2221</td>\n",
       "    </tr>\n",
       "    <tr>\n",
       "      <th>6</th>\n",
       "      <td>ffa25047060e4741d8eddf2b91b1ca23</td>\n",
       "      <td>GNU C++</td>\n",
       "      <td>d2ab0503ff0b707cedadf40b27428b5e</td>\n",
       "      <td>2175</td>\n",
       "      <td>2597</td>\n",
       "    </tr>\n",
       "    <tr>\n",
       "      <th>7</th>\n",
       "      <td>a6cba17c5ddb93f6741e00280fb6c54c</td>\n",
       "      <td>Mono C#</td>\n",
       "      <td>11781cdf1336a2ed99a2c9a339ccd30d</td>\n",
       "      <td>1248</td>\n",
       "      <td>1965</td>\n",
       "    </tr>\n",
       "    <tr>\n",
       "      <th>8</th>\n",
       "      <td>1ae2942b72ebb7c55359c41e141900d7</td>\n",
       "      <td>Mono C#</td>\n",
       "      <td>497a6eb76cb3a56e13acb48bc19b427b</td>\n",
       "      <td>5831</td>\n",
       "      <td>6478</td>\n",
       "    </tr>\n",
       "    <tr>\n",
       "      <th>9</th>\n",
       "      <td>566adc43d2d6df257c26c5f5495a5745</td>\n",
       "      <td>Mono C#</td>\n",
       "      <td>c9a4ce2cbee18773f505a1108261a965</td>\n",
       "      <td>1699</td>\n",
       "      <td>2047</td>\n",
       "    </tr>\n",
       "  </tbody>\n",
       "</table>\n",
       "</div>"
      ],
      "text/plain": [
       "                            src_uid      lang   \n",
       "0  1ae2942b72ebb7c55359c41e141900d7  Python 3  \\\n",
       "1  00480885be97002dca98fe98a4238aee   GNU C++   \n",
       "2  369f37d3487ba8c158e24f5ca759287b   GNU C++   \n",
       "3  dfd0814d912a7f2dfe31744ad1c778ae   GNU C++   \n",
       "4  970cd8ce0cf7214b7f2be337990557c9   GNU C++   \n",
       "5  1d73b315694f2ebbf796654193372730   GNU C++   \n",
       "6  ffa25047060e4741d8eddf2b91b1ca23   GNU C++   \n",
       "7  a6cba17c5ddb93f6741e00280fb6c54c   Mono C#   \n",
       "8  1ae2942b72ebb7c55359c41e141900d7   Mono C#   \n",
       "9  566adc43d2d6df257c26c5f5495a5745   Mono C#   \n",
       "\n",
       "             time_baseline_code_uid  code_tokens  prompt_tokens  \n",
       "0  7753e47e11c7622bbe870861f92a4c1e         4476           5122  \n",
       "1  06d994ff01f10c12154ea5db118111a3         1958           2639  \n",
       "2  001a05c8f74315f65ab4be3817e71a57         4417           4839  \n",
       "3  c78457e32745642efcc495ba47a6d3b4         1725           2333  \n",
       "4  969236f30c57aae82414bd5d0d72f2e9         3921           4280  \n",
       "5  c37ee62c72c01d23c416789e586b84a4         1673           2221  \n",
       "6  d2ab0503ff0b707cedadf40b27428b5e         2175           2597  \n",
       "7  11781cdf1336a2ed99a2c9a339ccd30d         1248           1965  \n",
       "8  497a6eb76cb3a56e13acb48bc19b427b         5831           6478  \n",
       "9  c9a4ce2cbee18773f505a1108261a965         1699           2047  "
      ]
     },
     "metadata": {},
     "output_type": "display_data"
    }
   ],
   "source": [
    "vicuna_failed_mem = get_data_info(empty_rows(vicuna_mem_path), 'mem', 'vicuna')\n",
    "vicuna_failed_time = get_data_info(empty_rows(vicuna_time_path), 'time', 'vicuna')\n",
    "display(vicuna_failed_mem)\n",
    "display(vicuna_failed_time)"
   ]
  },
  {
   "cell_type": "markdown",
   "metadata": {},
   "source": [
    "wizardcoder"
   ]
  },
  {
   "cell_type": "code",
   "execution_count": 140,
   "metadata": {},
   "outputs": [
    {
     "data": {
      "application/vnd.jupyter.widget-view+json": {
       "model_id": "2bdf701c0a8c4867a9a034bc1f655980",
       "version_major": 2,
       "version_minor": 0
      },
      "text/plain": [
       "Map:   0%|          | 0/3 [00:00<?, ? examples/s]"
      ]
     },
     "metadata": {},
     "output_type": "display_data"
    },
    {
     "name": "stderr",
     "output_type": "stream",
     "text": [
      "Token indices sequence length is longer than the specified maximum sequence length for this model (2663 > 2048). Running this sequence through the model will result in indexing errors\n"
     ]
    },
    {
     "data": {
      "application/vnd.jupyter.widget-view+json": {
       "model_id": "531d2c32462f48a585631bb975dd06bd",
       "version_major": 2,
       "version_minor": 0
      },
      "text/plain": [
       "Map:   0%|          | 0/8 [00:00<?, ? examples/s]"
      ]
     },
     "metadata": {},
     "output_type": "display_data"
    },
    {
     "name": "stderr",
     "output_type": "stream",
     "text": [
      "Token indices sequence length is longer than the specified maximum sequence length for this model (3883 > 2048). Running this sequence through the model will result in indexing errors\n"
     ]
    },
    {
     "data": {
      "text/html": [
       "<div>\n",
       "<style scoped>\n",
       "    .dataframe tbody tr th:only-of-type {\n",
       "        vertical-align: middle;\n",
       "    }\n",
       "\n",
       "    .dataframe tbody tr th {\n",
       "        vertical-align: top;\n",
       "    }\n",
       "\n",
       "    .dataframe thead th {\n",
       "        text-align: right;\n",
       "    }\n",
       "</style>\n",
       "<table border=\"1\" class=\"dataframe\">\n",
       "  <thead>\n",
       "    <tr style=\"text-align: right;\">\n",
       "      <th></th>\n",
       "      <th>src_uid</th>\n",
       "      <th>lang</th>\n",
       "      <th>mem_baseline_code_uid</th>\n",
       "      <th>code_tokens</th>\n",
       "      <th>prompt_tokens</th>\n",
       "    </tr>\n",
       "  </thead>\n",
       "  <tbody>\n",
       "    <tr>\n",
       "      <th>0</th>\n",
       "      <td>369f37d3487ba8c158e24f5ca759287b</td>\n",
       "      <td>GNU C++</td>\n",
       "      <td>8e30009ff12625f543ba7fb2a045d89a</td>\n",
       "      <td>2663</td>\n",
       "      <td>3072</td>\n",
       "    </tr>\n",
       "    <tr>\n",
       "      <th>1</th>\n",
       "      <td>1d73b315694f2ebbf796654193372730</td>\n",
       "      <td>GNU C++</td>\n",
       "      <td>71b4e1e108665548d02d6be01c6798cd</td>\n",
       "      <td>1640</td>\n",
       "      <td>2169</td>\n",
       "    </tr>\n",
       "    <tr>\n",
       "      <th>2</th>\n",
       "      <td>566adc43d2d6df257c26c5f5495a5745</td>\n",
       "      <td>GNU C++</td>\n",
       "      <td>ed358d58411a7ab7daa56c1035e6d7ac</td>\n",
       "      <td>2075</td>\n",
       "      <td>2408</td>\n",
       "    </tr>\n",
       "  </tbody>\n",
       "</table>\n",
       "</div>"
      ],
      "text/plain": [
       "                            src_uid     lang   \n",
       "0  369f37d3487ba8c158e24f5ca759287b  GNU C++  \\\n",
       "1  1d73b315694f2ebbf796654193372730  GNU C++   \n",
       "2  566adc43d2d6df257c26c5f5495a5745  GNU C++   \n",
       "\n",
       "              mem_baseline_code_uid  code_tokens  prompt_tokens  \n",
       "0  8e30009ff12625f543ba7fb2a045d89a         2663           3072  \n",
       "1  71b4e1e108665548d02d6be01c6798cd         1640           2169  \n",
       "2  ed358d58411a7ab7daa56c1035e6d7ac         2075           2408  "
      ]
     },
     "metadata": {},
     "output_type": "display_data"
    },
    {
     "data": {
      "text/html": [
       "<div>\n",
       "<style scoped>\n",
       "    .dataframe tbody tr th:only-of-type {\n",
       "        vertical-align: middle;\n",
       "    }\n",
       "\n",
       "    .dataframe tbody tr th {\n",
       "        vertical-align: top;\n",
       "    }\n",
       "\n",
       "    .dataframe thead th {\n",
       "        text-align: right;\n",
       "    }\n",
       "</style>\n",
       "<table border=\"1\" class=\"dataframe\">\n",
       "  <thead>\n",
       "    <tr style=\"text-align: right;\">\n",
       "      <th></th>\n",
       "      <th>src_uid</th>\n",
       "      <th>lang</th>\n",
       "      <th>time_baseline_code_uid</th>\n",
       "      <th>code_tokens</th>\n",
       "      <th>prompt_tokens</th>\n",
       "    </tr>\n",
       "  </thead>\n",
       "  <tbody>\n",
       "    <tr>\n",
       "      <th>0</th>\n",
       "      <td>1ae2942b72ebb7c55359c41e141900d7</td>\n",
       "      <td>Python 3</td>\n",
       "      <td>7753e47e11c7622bbe870861f92a4c1e</td>\n",
       "      <td>3883</td>\n",
       "      <td>4513</td>\n",
       "    </tr>\n",
       "    <tr>\n",
       "      <th>1</th>\n",
       "      <td>00480885be97002dca98fe98a4238aee</td>\n",
       "      <td>GNU C++</td>\n",
       "      <td>06d994ff01f10c12154ea5db118111a3</td>\n",
       "      <td>1799</td>\n",
       "      <td>2467</td>\n",
       "    </tr>\n",
       "    <tr>\n",
       "      <th>2</th>\n",
       "      <td>369f37d3487ba8c158e24f5ca759287b</td>\n",
       "      <td>GNU C++</td>\n",
       "      <td>001a05c8f74315f65ab4be3817e71a57</td>\n",
       "      <td>4027</td>\n",
       "      <td>4436</td>\n",
       "    </tr>\n",
       "    <tr>\n",
       "      <th>3</th>\n",
       "      <td>dfd0814d912a7f2dfe31744ad1c778ae</td>\n",
       "      <td>GNU C++</td>\n",
       "      <td>c78457e32745642efcc495ba47a6d3b4</td>\n",
       "      <td>1481</td>\n",
       "      <td>2072</td>\n",
       "    </tr>\n",
       "    <tr>\n",
       "      <th>4</th>\n",
       "      <td>970cd8ce0cf7214b7f2be337990557c9</td>\n",
       "      <td>GNU C++</td>\n",
       "      <td>969236f30c57aae82414bd5d0d72f2e9</td>\n",
       "      <td>2961</td>\n",
       "      <td>3298</td>\n",
       "    </tr>\n",
       "    <tr>\n",
       "      <th>5</th>\n",
       "      <td>1d73b315694f2ebbf796654193372730</td>\n",
       "      <td>GNU C++</td>\n",
       "      <td>c37ee62c72c01d23c416789e586b84a4</td>\n",
       "      <td>1513</td>\n",
       "      <td>2042</td>\n",
       "    </tr>\n",
       "    <tr>\n",
       "      <th>6</th>\n",
       "      <td>ffa25047060e4741d8eddf2b91b1ca23</td>\n",
       "      <td>GNU C++</td>\n",
       "      <td>d2ab0503ff0b707cedadf40b27428b5e</td>\n",
       "      <td>2025</td>\n",
       "      <td>2449</td>\n",
       "    </tr>\n",
       "    <tr>\n",
       "      <th>7</th>\n",
       "      <td>1ae2942b72ebb7c55359c41e141900d7</td>\n",
       "      <td>Mono C#</td>\n",
       "      <td>497a6eb76cb3a56e13acb48bc19b427b</td>\n",
       "      <td>4876</td>\n",
       "      <td>5506</td>\n",
       "    </tr>\n",
       "  </tbody>\n",
       "</table>\n",
       "</div>"
      ],
      "text/plain": [
       "                            src_uid      lang   \n",
       "0  1ae2942b72ebb7c55359c41e141900d7  Python 3  \\\n",
       "1  00480885be97002dca98fe98a4238aee   GNU C++   \n",
       "2  369f37d3487ba8c158e24f5ca759287b   GNU C++   \n",
       "3  dfd0814d912a7f2dfe31744ad1c778ae   GNU C++   \n",
       "4  970cd8ce0cf7214b7f2be337990557c9   GNU C++   \n",
       "5  1d73b315694f2ebbf796654193372730   GNU C++   \n",
       "6  ffa25047060e4741d8eddf2b91b1ca23   GNU C++   \n",
       "7  1ae2942b72ebb7c55359c41e141900d7   Mono C#   \n",
       "\n",
       "             time_baseline_code_uid  code_tokens  prompt_tokens  \n",
       "0  7753e47e11c7622bbe870861f92a4c1e         3883           4513  \n",
       "1  06d994ff01f10c12154ea5db118111a3         1799           2467  \n",
       "2  001a05c8f74315f65ab4be3817e71a57         4027           4436  \n",
       "3  c78457e32745642efcc495ba47a6d3b4         1481           2072  \n",
       "4  969236f30c57aae82414bd5d0d72f2e9         2961           3298  \n",
       "5  c37ee62c72c01d23c416789e586b84a4         1513           2042  \n",
       "6  d2ab0503ff0b707cedadf40b27428b5e         2025           2449  \n",
       "7  497a6eb76cb3a56e13acb48bc19b427b         4876           5506  "
      ]
     },
     "metadata": {},
     "output_type": "display_data"
    }
   ],
   "source": [
    "wizardcoder_failed_mem = get_data_info(empty_rows(wizardcoder_mem_path), 'mem', 'wizardcoder')\n",
    "wizardcoder_failed_time = get_data_info(empty_rows(wizardcoder_time_path), 'time', 'wizardcoder')\n",
    "display(wizardcoder_failed_mem)\n",
    "display(wizardcoder_failed_time)"
   ]
  },
  {
   "cell_type": "markdown",
   "metadata": {},
   "source": [
    "codellama"
   ]
  },
  {
   "cell_type": "code",
   "execution_count": 137,
   "metadata": {},
   "outputs": [
    {
     "name": "stderr",
     "output_type": "stream",
     "text": [
      "Special tokens have been added in the vocabulary, make sure the associated word embeddings are fine-tuned or trained.\n"
     ]
    },
    {
     "data": {
      "application/vnd.jupyter.widget-view+json": {
       "model_id": "995f1a83b9cd4e50b3e792fbc67fd1e6",
       "version_major": 2,
       "version_minor": 0
      },
      "text/plain": [
       "Map:   0%|          | 0/45 [00:00<?, ? examples/s]"
      ]
     },
     "metadata": {},
     "output_type": "display_data"
    },
    {
     "name": "stderr",
     "output_type": "stream",
     "text": [
      "Special tokens have been added in the vocabulary, make sure the associated word embeddings are fine-tuned or trained.\n"
     ]
    },
    {
     "data": {
      "application/vnd.jupyter.widget-view+json": {
       "model_id": "50494007ca164f48a25320a665236b22",
       "version_major": 2,
       "version_minor": 0
      },
      "text/plain": [
       "Map:   0%|          | 0/33 [00:00<?, ? examples/s]"
      ]
     },
     "metadata": {},
     "output_type": "display_data"
    },
    {
     "data": {
      "text/html": [
       "<div>\n",
       "<style scoped>\n",
       "    .dataframe tbody tr th:only-of-type {\n",
       "        vertical-align: middle;\n",
       "    }\n",
       "\n",
       "    .dataframe tbody tr th {\n",
       "        vertical-align: top;\n",
       "    }\n",
       "\n",
       "    .dataframe thead th {\n",
       "        text-align: right;\n",
       "    }\n",
       "</style>\n",
       "<table border=\"1\" class=\"dataframe\">\n",
       "  <thead>\n",
       "    <tr style=\"text-align: right;\">\n",
       "      <th></th>\n",
       "      <th>src_uid</th>\n",
       "      <th>lang</th>\n",
       "      <th>mem_baseline_code_uid</th>\n",
       "      <th>code_tokens</th>\n",
       "      <th>prompt_tokens</th>\n",
       "    </tr>\n",
       "  </thead>\n",
       "  <tbody>\n",
       "    <tr>\n",
       "      <th>0</th>\n",
       "      <td>a37df9b239a40473516d1525d56a0da7</td>\n",
       "      <td>Python 3</td>\n",
       "      <td>974cba32d5751fefaf2213b5276c63dd</td>\n",
       "      <td>813</td>\n",
       "      <td>1246</td>\n",
       "    </tr>\n",
       "    <tr>\n",
       "      <th>1</th>\n",
       "      <td>4ecbfc792da55f458342c6eff2d5da5a</td>\n",
       "      <td>GNU C</td>\n",
       "      <td>418aa85079b2c6cb5335d15f06e8d2df</td>\n",
       "      <td>809</td>\n",
       "      <td>1250</td>\n",
       "    </tr>\n",
       "    <tr>\n",
       "      <th>2</th>\n",
       "      <td>a6cba17c5ddb93f6741e00280fb6c54c</td>\n",
       "      <td>GNU C</td>\n",
       "      <td>25f988034e63a2e037da470628f5bf33</td>\n",
       "      <td>723</td>\n",
       "      <td>1407</td>\n",
       "    </tr>\n",
       "    <tr>\n",
       "      <th>3</th>\n",
       "      <td>a17bac596b1f060209534cbffdf0f40e</td>\n",
       "      <td>GNU C</td>\n",
       "      <td>2a4472a4a10c95db0f8620d5c2b692ea</td>\n",
       "      <td>1624</td>\n",
       "      <td>2213</td>\n",
       "    </tr>\n",
       "    <tr>\n",
       "      <th>4</th>\n",
       "      <td>702ec7a08b8472fa843acb6f2107e583</td>\n",
       "      <td>GNU C++</td>\n",
       "      <td>bca62d60e7bfeb083167619714ea21ab</td>\n",
       "      <td>1015</td>\n",
       "      <td>1465</td>\n",
       "    </tr>\n",
       "    <tr>\n",
       "      <th>5</th>\n",
       "      <td>b0301a2d79a1ec126511ed769ec0b743</td>\n",
       "      <td>GNU C++</td>\n",
       "      <td>087bfe5d33cbc494ad7c9993e2ed14ba</td>\n",
       "      <td>1453</td>\n",
       "      <td>1879</td>\n",
       "    </tr>\n",
       "    <tr>\n",
       "      <th>6</th>\n",
       "      <td>c23d3ec2b9fb4b4d169bc8053bfd000e</td>\n",
       "      <td>GNU C++</td>\n",
       "      <td>c5916412903a6c823b9557f6796417c6</td>\n",
       "      <td>1406</td>\n",
       "      <td>2135</td>\n",
       "    </tr>\n",
       "    <tr>\n",
       "      <th>7</th>\n",
       "      <td>a9bad412597726f8cdc0cfa2da891bc4</td>\n",
       "      <td>GNU C++</td>\n",
       "      <td>fb7bfc8a1118ab4550e410e151a775c1</td>\n",
       "      <td>1430</td>\n",
       "      <td>1897</td>\n",
       "    </tr>\n",
       "    <tr>\n",
       "      <th>8</th>\n",
       "      <td>0996e41d0630e56472399bc81544756b</td>\n",
       "      <td>GNU C++</td>\n",
       "      <td>67ceb467d869143ef7e9f52cbedbb19f</td>\n",
       "      <td>608</td>\n",
       "      <td>1207</td>\n",
       "    </tr>\n",
       "    <tr>\n",
       "      <th>9</th>\n",
       "      <td>c16c49baf7b2d179764871204475036e</td>\n",
       "      <td>GNU C++</td>\n",
       "      <td>547eb29e1441f4a6414523b956d6f5ae</td>\n",
       "      <td>1215</td>\n",
       "      <td>1620</td>\n",
       "    </tr>\n",
       "    <tr>\n",
       "      <th>10</th>\n",
       "      <td>00480885be97002dca98fe98a4238aee</td>\n",
       "      <td>GNU C++</td>\n",
       "      <td>3b15e31993f61c9f073aa604883ed967</td>\n",
       "      <td>1323</td>\n",
       "      <td>1972</td>\n",
       "    </tr>\n",
       "    <tr>\n",
       "      <th>11</th>\n",
       "      <td>0937a7e2f912fc094cc4275fd47cd457</td>\n",
       "      <td>GNU C++</td>\n",
       "      <td>501cf350524e3c816f2c2362701b2070</td>\n",
       "      <td>1280</td>\n",
       "      <td>1746</td>\n",
       "    </tr>\n",
       "    <tr>\n",
       "      <th>12</th>\n",
       "      <td>369f37d3487ba8c158e24f5ca759287b</td>\n",
       "      <td>GNU C++</td>\n",
       "      <td>8e30009ff12625f543ba7fb2a045d89a</td>\n",
       "      <td>2923</td>\n",
       "      <td>3313</td>\n",
       "    </tr>\n",
       "    <tr>\n",
       "      <th>13</th>\n",
       "      <td>1d73b315694f2ebbf796654193372730</td>\n",
       "      <td>GNU C++</td>\n",
       "      <td>71b4e1e108665548d02d6be01c6798cd</td>\n",
       "      <td>1766</td>\n",
       "      <td>2282</td>\n",
       "    </tr>\n",
       "    <tr>\n",
       "      <th>14</th>\n",
       "      <td>aad7ebf4fa919fae78bfc878e47e483c</td>\n",
       "      <td>GNU C++</td>\n",
       "      <td>0a947d910e4fe9d8a0cf4dd0eafa2b95</td>\n",
       "      <td>901</td>\n",
       "      <td>1219</td>\n",
       "    </tr>\n",
       "    <tr>\n",
       "      <th>15</th>\n",
       "      <td>a6cba17c5ddb93f6741e00280fb6c54c</td>\n",
       "      <td>GNU C++</td>\n",
       "      <td>b6dfe6f5ab6e57591da49c34b9dae1d8</td>\n",
       "      <td>719</td>\n",
       "      <td>1404</td>\n",
       "    </tr>\n",
       "    <tr>\n",
       "      <th>16</th>\n",
       "      <td>0152b751406d2d88eb5d3430020f8c49</td>\n",
       "      <td>GNU C++</td>\n",
       "      <td>8b2ed3651247cb6cce5d3163c9e85f1d</td>\n",
       "      <td>429</td>\n",
       "      <td>1038</td>\n",
       "    </tr>\n",
       "    <tr>\n",
       "      <th>17</th>\n",
       "      <td>ffa25047060e4741d8eddf2b91b1ca23</td>\n",
       "      <td>GNU C++</td>\n",
       "      <td>6276cc4b8f45625a1456ec7f60bdb55b</td>\n",
       "      <td>1057</td>\n",
       "      <td>1447</td>\n",
       "    </tr>\n",
       "    <tr>\n",
       "      <th>18</th>\n",
       "      <td>b0ef9cda01a01cad22e7f4c49e74e85c</td>\n",
       "      <td>GNU C++</td>\n",
       "      <td>11b43e0135d77b86ecb15ed58624f6df</td>\n",
       "      <td>642</td>\n",
       "      <td>1018</td>\n",
       "    </tr>\n",
       "    <tr>\n",
       "      <th>19</th>\n",
       "      <td>55591193f2dae9e04f0b9890aaa02575</td>\n",
       "      <td>GNU C++</td>\n",
       "      <td>7e075281d711856c50f694293dad1236</td>\n",
       "      <td>411</td>\n",
       "      <td>859</td>\n",
       "    </tr>\n",
       "    <tr>\n",
       "      <th>20</th>\n",
       "      <td>c31fed523230af1f904218b2fe0d663d</td>\n",
       "      <td>GNU C++</td>\n",
       "      <td>e2d73374a9b967eb10331745c3ccc8d7</td>\n",
       "      <td>890</td>\n",
       "      <td>1270</td>\n",
       "    </tr>\n",
       "    <tr>\n",
       "      <th>21</th>\n",
       "      <td>d3a0402de1338a1a542a86ac5b484acc</td>\n",
       "      <td>GNU C++</td>\n",
       "      <td>a2267591cde94101d133b2a61da462ae</td>\n",
       "      <td>402</td>\n",
       "      <td>775</td>\n",
       "    </tr>\n",
       "    <tr>\n",
       "      <th>22</th>\n",
       "      <td>b244d5c52acda47c5e8ef92029a9635f</td>\n",
       "      <td>GNU C++</td>\n",
       "      <td>24a28db4574ed7b26ae11e955294afed</td>\n",
       "      <td>525</td>\n",
       "      <td>1005</td>\n",
       "    </tr>\n",
       "    <tr>\n",
       "      <th>23</th>\n",
       "      <td>c175d010d75c391d0b25391fecff007c</td>\n",
       "      <td>GNU C++</td>\n",
       "      <td>1271a6f84274a5e359c3b2982085a10b</td>\n",
       "      <td>666</td>\n",
       "      <td>1245</td>\n",
       "    </tr>\n",
       "    <tr>\n",
       "      <th>24</th>\n",
       "      <td>9c30697e71102ae10c55c14d9c1db006</td>\n",
       "      <td>GNU C++</td>\n",
       "      <td>813e0eb03a6cc230b153e92da126844c</td>\n",
       "      <td>671</td>\n",
       "      <td>1120</td>\n",
       "    </tr>\n",
       "    <tr>\n",
       "      <th>25</th>\n",
       "      <td>566adc43d2d6df257c26c5f5495a5745</td>\n",
       "      <td>GNU C++</td>\n",
       "      <td>ed358d58411a7ab7daa56c1035e6d7ac</td>\n",
       "      <td>2241</td>\n",
       "      <td>2557</td>\n",
       "    </tr>\n",
       "    <tr>\n",
       "      <th>26</th>\n",
       "      <td>e9c486e2d942700e0644dff29b6e3be6</td>\n",
       "      <td>GNU C++</td>\n",
       "      <td>107b05c470f863d213a04a42f67c849e</td>\n",
       "      <td>1058</td>\n",
       "      <td>1596</td>\n",
       "    </tr>\n",
       "    <tr>\n",
       "      <th>27</th>\n",
       "      <td>cb47d710361979de0f975cc34fc22c7a</td>\n",
       "      <td>GNU C++</td>\n",
       "      <td>d1cfda2c34eaf0b6e4bb3ff89f9bdb52</td>\n",
       "      <td>1437</td>\n",
       "      <td>1967</td>\n",
       "    </tr>\n",
       "    <tr>\n",
       "      <th>28</th>\n",
       "      <td>f8315dc903b0542c453cab4577bcb20d</td>\n",
       "      <td>Mono C#</td>\n",
       "      <td>8dbecbe304244baa540fc15df607068e</td>\n",
       "      <td>1620</td>\n",
       "      <td>2041</td>\n",
       "    </tr>\n",
       "    <tr>\n",
       "      <th>29</th>\n",
       "      <td>c3244e952830643938d51ce14f043d7d</td>\n",
       "      <td>Mono C#</td>\n",
       "      <td>ad1f8631262eaf23eec957af7d51170b</td>\n",
       "      <td>776</td>\n",
       "      <td>1231</td>\n",
       "    </tr>\n",
       "    <tr>\n",
       "      <th>30</th>\n",
       "      <td>c4b7265ff4332225c0d5617c3233a910</td>\n",
       "      <td>Mono C#</td>\n",
       "      <td>b06a7aa8a1053e1395ec27414f4c9f0d</td>\n",
       "      <td>967</td>\n",
       "      <td>1312</td>\n",
       "    </tr>\n",
       "    <tr>\n",
       "      <th>31</th>\n",
       "      <td>d526af933b5afe9abfdf9815e9664144</td>\n",
       "      <td>Mono C#</td>\n",
       "      <td>a2457b4cd265c4d09781d5682dd1e0c7</td>\n",
       "      <td>428</td>\n",
       "      <td>985</td>\n",
       "    </tr>\n",
       "    <tr>\n",
       "      <th>32</th>\n",
       "      <td>6cfd3b0a403212ec68bac1667bce9ef1</td>\n",
       "      <td>Mono C#</td>\n",
       "      <td>476d0231e43f8f1dd5c928ea06330912</td>\n",
       "      <td>336</td>\n",
       "      <td>846</td>\n",
       "    </tr>\n",
       "    <tr>\n",
       "      <th>33</th>\n",
       "      <td>a6cba17c5ddb93f6741e00280fb6c54c</td>\n",
       "      <td>Mono C#</td>\n",
       "      <td>4689cdd91cff9d9ff47ff863673c4a77</td>\n",
       "      <td>1348</td>\n",
       "      <td>2034</td>\n",
       "    </tr>\n",
       "    <tr>\n",
       "      <th>34</th>\n",
       "      <td>cb4dbff31d967c3dab8fe0495eb871dc</td>\n",
       "      <td>Mono C#</td>\n",
       "      <td>54b1cf29ddc84a456b01bbdf70ba4d4d</td>\n",
       "      <td>986</td>\n",
       "      <td>1307</td>\n",
       "    </tr>\n",
       "    <tr>\n",
       "      <th>35</th>\n",
       "      <td>54c748dd983b6a0ea1af1153d08f1c01</td>\n",
       "      <td>Mono C#</td>\n",
       "      <td>53932a8bb722aae4e88cdc2ab793ca03</td>\n",
       "      <td>360</td>\n",
       "      <td>763</td>\n",
       "    </tr>\n",
       "    <tr>\n",
       "      <th>36</th>\n",
       "      <td>991516fa6f3ed5a71c547a3a50ea1a2b</td>\n",
       "      <td>Mono C#</td>\n",
       "      <td>6e016a9c6343b618444100a8cde444da</td>\n",
       "      <td>948</td>\n",
       "      <td>1451</td>\n",
       "    </tr>\n",
       "    <tr>\n",
       "      <th>37</th>\n",
       "      <td>9c90974a0bb860a5e180760042fd5045</td>\n",
       "      <td>Mono C#</td>\n",
       "      <td>0e21f38678dacb0e9e321767573a6a96</td>\n",
       "      <td>469</td>\n",
       "      <td>838</td>\n",
       "    </tr>\n",
       "    <tr>\n",
       "      <th>38</th>\n",
       "      <td>5d11fa8528f1dc873d50b3417bef8c79</td>\n",
       "      <td>Mono C#</td>\n",
       "      <td>bbf7652ab0f4c428504ce4dbba52d1ef</td>\n",
       "      <td>534</td>\n",
       "      <td>984</td>\n",
       "    </tr>\n",
       "    <tr>\n",
       "      <th>39</th>\n",
       "      <td>b263917e47e1c84340bcb1c77999fd7e</td>\n",
       "      <td>Mono C#</td>\n",
       "      <td>cce2b994a8663bfd5a6f7ef6c3c4a3a7</td>\n",
       "      <td>1066</td>\n",
       "      <td>1389</td>\n",
       "    </tr>\n",
       "    <tr>\n",
       "      <th>40</th>\n",
       "      <td>7170c40405cf7a5e0f2bd15e4c7d189d</td>\n",
       "      <td>Mono C#</td>\n",
       "      <td>9c5744510d4291c130405431ee09a300</td>\n",
       "      <td>956</td>\n",
       "      <td>1485</td>\n",
       "    </tr>\n",
       "    <tr>\n",
       "      <th>41</th>\n",
       "      <td>c175d010d75c391d0b25391fecff007c</td>\n",
       "      <td>Mono C#</td>\n",
       "      <td>310d028f0f6555fed72adcbbda69bb28</td>\n",
       "      <td>1577</td>\n",
       "      <td>2156</td>\n",
       "    </tr>\n",
       "    <tr>\n",
       "      <th>42</th>\n",
       "      <td>e33b0a752dc1aba25da21e20435e3fe2</td>\n",
       "      <td>Mono C#</td>\n",
       "      <td>77d4298d5a1c38b4995a5d6b2d3e95eb</td>\n",
       "      <td>409</td>\n",
       "      <td>858</td>\n",
       "    </tr>\n",
       "    <tr>\n",
       "      <th>43</th>\n",
       "      <td>566adc43d2d6df257c26c5f5495a5745</td>\n",
       "      <td>Mono C#</td>\n",
       "      <td>cbb0a302ae6d9f8d104c17ec101b1684</td>\n",
       "      <td>945</td>\n",
       "      <td>1261</td>\n",
       "    </tr>\n",
       "    <tr>\n",
       "      <th>44</th>\n",
       "      <td>867facaa8bcdfcb53ec3647387f7d23f</td>\n",
       "      <td>Mono C#</td>\n",
       "      <td>a6bc19194390c14f95da1b24705d48c6</td>\n",
       "      <td>894</td>\n",
       "      <td>1339</td>\n",
       "    </tr>\n",
       "  </tbody>\n",
       "</table>\n",
       "</div>"
      ],
      "text/plain": [
       "                             src_uid      lang   \n",
       "0   a37df9b239a40473516d1525d56a0da7  Python 3  \\\n",
       "1   4ecbfc792da55f458342c6eff2d5da5a     GNU C   \n",
       "2   a6cba17c5ddb93f6741e00280fb6c54c     GNU C   \n",
       "3   a17bac596b1f060209534cbffdf0f40e     GNU C   \n",
       "4   702ec7a08b8472fa843acb6f2107e583   GNU C++   \n",
       "5   b0301a2d79a1ec126511ed769ec0b743   GNU C++   \n",
       "6   c23d3ec2b9fb4b4d169bc8053bfd000e   GNU C++   \n",
       "7   a9bad412597726f8cdc0cfa2da891bc4   GNU C++   \n",
       "8   0996e41d0630e56472399bc81544756b   GNU C++   \n",
       "9   c16c49baf7b2d179764871204475036e   GNU C++   \n",
       "10  00480885be97002dca98fe98a4238aee   GNU C++   \n",
       "11  0937a7e2f912fc094cc4275fd47cd457   GNU C++   \n",
       "12  369f37d3487ba8c158e24f5ca759287b   GNU C++   \n",
       "13  1d73b315694f2ebbf796654193372730   GNU C++   \n",
       "14  aad7ebf4fa919fae78bfc878e47e483c   GNU C++   \n",
       "15  a6cba17c5ddb93f6741e00280fb6c54c   GNU C++   \n",
       "16  0152b751406d2d88eb5d3430020f8c49   GNU C++   \n",
       "17  ffa25047060e4741d8eddf2b91b1ca23   GNU C++   \n",
       "18  b0ef9cda01a01cad22e7f4c49e74e85c   GNU C++   \n",
       "19  55591193f2dae9e04f0b9890aaa02575   GNU C++   \n",
       "20  c31fed523230af1f904218b2fe0d663d   GNU C++   \n",
       "21  d3a0402de1338a1a542a86ac5b484acc   GNU C++   \n",
       "22  b244d5c52acda47c5e8ef92029a9635f   GNU C++   \n",
       "23  c175d010d75c391d0b25391fecff007c   GNU C++   \n",
       "24  9c30697e71102ae10c55c14d9c1db006   GNU C++   \n",
       "25  566adc43d2d6df257c26c5f5495a5745   GNU C++   \n",
       "26  e9c486e2d942700e0644dff29b6e3be6   GNU C++   \n",
       "27  cb47d710361979de0f975cc34fc22c7a   GNU C++   \n",
       "28  f8315dc903b0542c453cab4577bcb20d   Mono C#   \n",
       "29  c3244e952830643938d51ce14f043d7d   Mono C#   \n",
       "30  c4b7265ff4332225c0d5617c3233a910   Mono C#   \n",
       "31  d526af933b5afe9abfdf9815e9664144   Mono C#   \n",
       "32  6cfd3b0a403212ec68bac1667bce9ef1   Mono C#   \n",
       "33  a6cba17c5ddb93f6741e00280fb6c54c   Mono C#   \n",
       "34  cb4dbff31d967c3dab8fe0495eb871dc   Mono C#   \n",
       "35  54c748dd983b6a0ea1af1153d08f1c01   Mono C#   \n",
       "36  991516fa6f3ed5a71c547a3a50ea1a2b   Mono C#   \n",
       "37  9c90974a0bb860a5e180760042fd5045   Mono C#   \n",
       "38  5d11fa8528f1dc873d50b3417bef8c79   Mono C#   \n",
       "39  b263917e47e1c84340bcb1c77999fd7e   Mono C#   \n",
       "40  7170c40405cf7a5e0f2bd15e4c7d189d   Mono C#   \n",
       "41  c175d010d75c391d0b25391fecff007c   Mono C#   \n",
       "42  e33b0a752dc1aba25da21e20435e3fe2   Mono C#   \n",
       "43  566adc43d2d6df257c26c5f5495a5745   Mono C#   \n",
       "44  867facaa8bcdfcb53ec3647387f7d23f   Mono C#   \n",
       "\n",
       "               mem_baseline_code_uid  code_tokens  prompt_tokens  \n",
       "0   974cba32d5751fefaf2213b5276c63dd          813           1246  \n",
       "1   418aa85079b2c6cb5335d15f06e8d2df          809           1250  \n",
       "2   25f988034e63a2e037da470628f5bf33          723           1407  \n",
       "3   2a4472a4a10c95db0f8620d5c2b692ea         1624           2213  \n",
       "4   bca62d60e7bfeb083167619714ea21ab         1015           1465  \n",
       "5   087bfe5d33cbc494ad7c9993e2ed14ba         1453           1879  \n",
       "6   c5916412903a6c823b9557f6796417c6         1406           2135  \n",
       "7   fb7bfc8a1118ab4550e410e151a775c1         1430           1897  \n",
       "8   67ceb467d869143ef7e9f52cbedbb19f          608           1207  \n",
       "9   547eb29e1441f4a6414523b956d6f5ae         1215           1620  \n",
       "10  3b15e31993f61c9f073aa604883ed967         1323           1972  \n",
       "11  501cf350524e3c816f2c2362701b2070         1280           1746  \n",
       "12  8e30009ff12625f543ba7fb2a045d89a         2923           3313  \n",
       "13  71b4e1e108665548d02d6be01c6798cd         1766           2282  \n",
       "14  0a947d910e4fe9d8a0cf4dd0eafa2b95          901           1219  \n",
       "15  b6dfe6f5ab6e57591da49c34b9dae1d8          719           1404  \n",
       "16  8b2ed3651247cb6cce5d3163c9e85f1d          429           1038  \n",
       "17  6276cc4b8f45625a1456ec7f60bdb55b         1057           1447  \n",
       "18  11b43e0135d77b86ecb15ed58624f6df          642           1018  \n",
       "19  7e075281d711856c50f694293dad1236          411            859  \n",
       "20  e2d73374a9b967eb10331745c3ccc8d7          890           1270  \n",
       "21  a2267591cde94101d133b2a61da462ae          402            775  \n",
       "22  24a28db4574ed7b26ae11e955294afed          525           1005  \n",
       "23  1271a6f84274a5e359c3b2982085a10b          666           1245  \n",
       "24  813e0eb03a6cc230b153e92da126844c          671           1120  \n",
       "25  ed358d58411a7ab7daa56c1035e6d7ac         2241           2557  \n",
       "26  107b05c470f863d213a04a42f67c849e         1058           1596  \n",
       "27  d1cfda2c34eaf0b6e4bb3ff89f9bdb52         1437           1967  \n",
       "28  8dbecbe304244baa540fc15df607068e         1620           2041  \n",
       "29  ad1f8631262eaf23eec957af7d51170b          776           1231  \n",
       "30  b06a7aa8a1053e1395ec27414f4c9f0d          967           1312  \n",
       "31  a2457b4cd265c4d09781d5682dd1e0c7          428            985  \n",
       "32  476d0231e43f8f1dd5c928ea06330912          336            846  \n",
       "33  4689cdd91cff9d9ff47ff863673c4a77         1348           2034  \n",
       "34  54b1cf29ddc84a456b01bbdf70ba4d4d          986           1307  \n",
       "35  53932a8bb722aae4e88cdc2ab793ca03          360            763  \n",
       "36  6e016a9c6343b618444100a8cde444da          948           1451  \n",
       "37  0e21f38678dacb0e9e321767573a6a96          469            838  \n",
       "38  bbf7652ab0f4c428504ce4dbba52d1ef          534            984  \n",
       "39  cce2b994a8663bfd5a6f7ef6c3c4a3a7         1066           1389  \n",
       "40  9c5744510d4291c130405431ee09a300          956           1485  \n",
       "41  310d028f0f6555fed72adcbbda69bb28         1577           2156  \n",
       "42  77d4298d5a1c38b4995a5d6b2d3e95eb          409            858  \n",
       "43  cbb0a302ae6d9f8d104c17ec101b1684          945           1261  \n",
       "44  a6bc19194390c14f95da1b24705d48c6          894           1339  "
      ]
     },
     "metadata": {},
     "output_type": "display_data"
    },
    {
     "data": {
      "text/html": [
       "<div>\n",
       "<style scoped>\n",
       "    .dataframe tbody tr th:only-of-type {\n",
       "        vertical-align: middle;\n",
       "    }\n",
       "\n",
       "    .dataframe tbody tr th {\n",
       "        vertical-align: top;\n",
       "    }\n",
       "\n",
       "    .dataframe thead th {\n",
       "        text-align: right;\n",
       "    }\n",
       "</style>\n",
       "<table border=\"1\" class=\"dataframe\">\n",
       "  <thead>\n",
       "    <tr style=\"text-align: right;\">\n",
       "      <th></th>\n",
       "      <th>src_uid</th>\n",
       "      <th>lang</th>\n",
       "      <th>time_baseline_code_uid</th>\n",
       "      <th>code_tokens</th>\n",
       "      <th>prompt_tokens</th>\n",
       "    </tr>\n",
       "  </thead>\n",
       "  <tbody>\n",
       "    <tr>\n",
       "      <th>0</th>\n",
       "      <td>1ae2942b72ebb7c55359c41e141900d7</td>\n",
       "      <td>Python 3</td>\n",
       "      <td>7753e47e11c7622bbe870861f92a4c1e</td>\n",
       "      <td>4476</td>\n",
       "      <td>5090</td>\n",
       "    </tr>\n",
       "    <tr>\n",
       "      <th>1</th>\n",
       "      <td>5e055bad1da5bdc84599d6f2f89fbd12</td>\n",
       "      <td>GNU C</td>\n",
       "      <td>8d2e30036a9e1ba2f21c8d1e93023e00</td>\n",
       "      <td>890</td>\n",
       "      <td>1207</td>\n",
       "    </tr>\n",
       "    <tr>\n",
       "      <th>2</th>\n",
       "      <td>a6cba17c5ddb93f6741e00280fb6c54c</td>\n",
       "      <td>GNU C</td>\n",
       "      <td>674d4476f23920b540b31614cba86481</td>\n",
       "      <td>1198</td>\n",
       "      <td>1882</td>\n",
       "    </tr>\n",
       "    <tr>\n",
       "      <th>3</th>\n",
       "      <td>a17bac596b1f060209534cbffdf0f40e</td>\n",
       "      <td>GNU C</td>\n",
       "      <td>a19e8c72a9d869d9e9a02e2bed4a0443</td>\n",
       "      <td>1624</td>\n",
       "      <td>2213</td>\n",
       "    </tr>\n",
       "    <tr>\n",
       "      <th>4</th>\n",
       "      <td>702ec7a08b8472fa843acb6f2107e583</td>\n",
       "      <td>GNU C++</td>\n",
       "      <td>10887dde531ac9e6755e2b970e8169e5</td>\n",
       "      <td>1088</td>\n",
       "      <td>1538</td>\n",
       "    </tr>\n",
       "    <tr>\n",
       "      <th>5</th>\n",
       "      <td>c23d3ec2b9fb4b4d169bc8053bfd000e</td>\n",
       "      <td>GNU C++</td>\n",
       "      <td>64436b602ab2429463534e65451a19c7</td>\n",
       "      <td>1023</td>\n",
       "      <td>1752</td>\n",
       "    </tr>\n",
       "    <tr>\n",
       "      <th>6</th>\n",
       "      <td>0996e41d0630e56472399bc81544756b</td>\n",
       "      <td>GNU C++</td>\n",
       "      <td>b781fc676fbec394b21a5082ac0a0109</td>\n",
       "      <td>800</td>\n",
       "      <td>1399</td>\n",
       "    </tr>\n",
       "    <tr>\n",
       "      <th>7</th>\n",
       "      <td>00480885be97002dca98fe98a4238aee</td>\n",
       "      <td>GNU C++</td>\n",
       "      <td>06d994ff01f10c12154ea5db118111a3</td>\n",
       "      <td>1958</td>\n",
       "      <td>2607</td>\n",
       "    </tr>\n",
       "    <tr>\n",
       "      <th>8</th>\n",
       "      <td>369f37d3487ba8c158e24f5ca759287b</td>\n",
       "      <td>GNU C++</td>\n",
       "      <td>001a05c8f74315f65ab4be3817e71a57</td>\n",
       "      <td>4417</td>\n",
       "      <td>4807</td>\n",
       "    </tr>\n",
       "    <tr>\n",
       "      <th>9</th>\n",
       "      <td>dfd0814d912a7f2dfe31744ad1c778ae</td>\n",
       "      <td>GNU C++</td>\n",
       "      <td>c78457e32745642efcc495ba47a6d3b4</td>\n",
       "      <td>1725</td>\n",
       "      <td>2301</td>\n",
       "    </tr>\n",
       "    <tr>\n",
       "      <th>10</th>\n",
       "      <td>970cd8ce0cf7214b7f2be337990557c9</td>\n",
       "      <td>GNU C++</td>\n",
       "      <td>969236f30c57aae82414bd5d0d72f2e9</td>\n",
       "      <td>3921</td>\n",
       "      <td>4248</td>\n",
       "    </tr>\n",
       "    <tr>\n",
       "      <th>11</th>\n",
       "      <td>1d73b315694f2ebbf796654193372730</td>\n",
       "      <td>GNU C++</td>\n",
       "      <td>c37ee62c72c01d23c416789e586b84a4</td>\n",
       "      <td>1673</td>\n",
       "      <td>2189</td>\n",
       "    </tr>\n",
       "    <tr>\n",
       "      <th>12</th>\n",
       "      <td>a6cba17c5ddb93f6741e00280fb6c54c</td>\n",
       "      <td>GNU C++</td>\n",
       "      <td>2b1c8f8ff4d223490ac14f9f6c8dce68</td>\n",
       "      <td>919</td>\n",
       "      <td>1604</td>\n",
       "    </tr>\n",
       "    <tr>\n",
       "      <th>13</th>\n",
       "      <td>ffa25047060e4741d8eddf2b91b1ca23</td>\n",
       "      <td>GNU C++</td>\n",
       "      <td>d2ab0503ff0b707cedadf40b27428b5e</td>\n",
       "      <td>2175</td>\n",
       "      <td>2565</td>\n",
       "    </tr>\n",
       "    <tr>\n",
       "      <th>14</th>\n",
       "      <td>c31fed523230af1f904218b2fe0d663d</td>\n",
       "      <td>GNU C++</td>\n",
       "      <td>e2d73374a9b967eb10331745c3ccc8d7</td>\n",
       "      <td>890</td>\n",
       "      <td>1270</td>\n",
       "    </tr>\n",
       "    <tr>\n",
       "      <th>15</th>\n",
       "      <td>d3a0402de1338a1a542a86ac5b484acc</td>\n",
       "      <td>GNU C++</td>\n",
       "      <td>1e8150c54f7118e4f3ac865c5872f2fa</td>\n",
       "      <td>831</td>\n",
       "      <td>1204</td>\n",
       "    </tr>\n",
       "    <tr>\n",
       "      <th>16</th>\n",
       "      <td>c175d010d75c391d0b25391fecff007c</td>\n",
       "      <td>GNU C++</td>\n",
       "      <td>1271a6f84274a5e359c3b2982085a10b</td>\n",
       "      <td>666</td>\n",
       "      <td>1245</td>\n",
       "    </tr>\n",
       "    <tr>\n",
       "      <th>17</th>\n",
       "      <td>9c30697e71102ae10c55c14d9c1db006</td>\n",
       "      <td>GNU C++</td>\n",
       "      <td>0d6f770e277c7e4b927fd8a46a38ce81</td>\n",
       "      <td>583</td>\n",
       "      <td>1032</td>\n",
       "    </tr>\n",
       "    <tr>\n",
       "      <th>18</th>\n",
       "      <td>566adc43d2d6df257c26c5f5495a5745</td>\n",
       "      <td>GNU C++</td>\n",
       "      <td>d75f3e820988be53e58820e790b50712</td>\n",
       "      <td>795</td>\n",
       "      <td>1111</td>\n",
       "    </tr>\n",
       "    <tr>\n",
       "      <th>19</th>\n",
       "      <td>e9c486e2d942700e0644dff29b6e3be6</td>\n",
       "      <td>GNU C++</td>\n",
       "      <td>107b05c470f863d213a04a42f67c849e</td>\n",
       "      <td>1058</td>\n",
       "      <td>1596</td>\n",
       "    </tr>\n",
       "    <tr>\n",
       "      <th>20</th>\n",
       "      <td>5215112549723fea3f2c1fe0049e0b2e</td>\n",
       "      <td>GNU C++</td>\n",
       "      <td>0728199d9048f2836d9f92480b475a0f</td>\n",
       "      <td>330</td>\n",
       "      <td>666</td>\n",
       "    </tr>\n",
       "    <tr>\n",
       "      <th>21</th>\n",
       "      <td>cb47d710361979de0f975cc34fc22c7a</td>\n",
       "      <td>GNU C++</td>\n",
       "      <td>3354bae55ab1653d4f3fbb40fe0bbb9c</td>\n",
       "      <td>1040</td>\n",
       "      <td>1569</td>\n",
       "    </tr>\n",
       "    <tr>\n",
       "      <th>22</th>\n",
       "      <td>5e055bad1da5bdc84599d6f2f89fbd12</td>\n",
       "      <td>Mono C#</td>\n",
       "      <td>d1d225ac8c37069042ddfd019fa3def4</td>\n",
       "      <td>814</td>\n",
       "      <td>1132</td>\n",
       "    </tr>\n",
       "    <tr>\n",
       "      <th>23</th>\n",
       "      <td>4ecbfc792da55f458342c6eff2d5da5a</td>\n",
       "      <td>Mono C#</td>\n",
       "      <td>c42633f96c323311b29e98f2ce0907aa</td>\n",
       "      <td>430</td>\n",
       "      <td>872</td>\n",
       "    </tr>\n",
       "    <tr>\n",
       "      <th>24</th>\n",
       "      <td>f8315dc903b0542c453cab4577bcb20d</td>\n",
       "      <td>Mono C#</td>\n",
       "      <td>09545bca4d87c6dc757a405cd3508850</td>\n",
       "      <td>1096</td>\n",
       "      <td>1516</td>\n",
       "    </tr>\n",
       "    <tr>\n",
       "      <th>25</th>\n",
       "      <td>3d6411d67c85f6293f1999ccff2cd8ba</td>\n",
       "      <td>Mono C#</td>\n",
       "      <td>75019628e7f0a3fff88c4959cf8a44b5</td>\n",
       "      <td>275</td>\n",
       "      <td>726</td>\n",
       "    </tr>\n",
       "    <tr>\n",
       "      <th>26</th>\n",
       "      <td>bd5912fe2c5c37658f28f6b159b39645</td>\n",
       "      <td>Mono C#</td>\n",
       "      <td>229761440491c756aa2c761b237fdaf6</td>\n",
       "      <td>345</td>\n",
       "      <td>577</td>\n",
       "    </tr>\n",
       "    <tr>\n",
       "      <th>27</th>\n",
       "      <td>c3244e952830643938d51ce14f043d7d</td>\n",
       "      <td>Mono C#</td>\n",
       "      <td>66701500efc7289162671d3c9260f165</td>\n",
       "      <td>437</td>\n",
       "      <td>892</td>\n",
       "    </tr>\n",
       "    <tr>\n",
       "      <th>28</th>\n",
       "      <td>a6cba17c5ddb93f6741e00280fb6c54c</td>\n",
       "      <td>Mono C#</td>\n",
       "      <td>11781cdf1336a2ed99a2c9a339ccd30d</td>\n",
       "      <td>1248</td>\n",
       "      <td>1933</td>\n",
       "    </tr>\n",
       "    <tr>\n",
       "      <th>29</th>\n",
       "      <td>991516fa6f3ed5a71c547a3a50ea1a2b</td>\n",
       "      <td>Mono C#</td>\n",
       "      <td>6e016a9c6343b618444100a8cde444da</td>\n",
       "      <td>948</td>\n",
       "      <td>1451</td>\n",
       "    </tr>\n",
       "    <tr>\n",
       "      <th>30</th>\n",
       "      <td>1ae2942b72ebb7c55359c41e141900d7</td>\n",
       "      <td>Mono C#</td>\n",
       "      <td>497a6eb76cb3a56e13acb48bc19b427b</td>\n",
       "      <td>5831</td>\n",
       "      <td>6446</td>\n",
       "    </tr>\n",
       "    <tr>\n",
       "      <th>31</th>\n",
       "      <td>566adc43d2d6df257c26c5f5495a5745</td>\n",
       "      <td>Mono C#</td>\n",
       "      <td>c9a4ce2cbee18773f505a1108261a965</td>\n",
       "      <td>1699</td>\n",
       "      <td>2015</td>\n",
       "    </tr>\n",
       "    <tr>\n",
       "      <th>32</th>\n",
       "      <td>867facaa8bcdfcb53ec3647387f7d23f</td>\n",
       "      <td>Mono C#</td>\n",
       "      <td>80efe1c60fde92942ab7fb1dd5e37324</td>\n",
       "      <td>997</td>\n",
       "      <td>1443</td>\n",
       "    </tr>\n",
       "  </tbody>\n",
       "</table>\n",
       "</div>"
      ],
      "text/plain": [
       "                             src_uid      lang   \n",
       "0   1ae2942b72ebb7c55359c41e141900d7  Python 3  \\\n",
       "1   5e055bad1da5bdc84599d6f2f89fbd12     GNU C   \n",
       "2   a6cba17c5ddb93f6741e00280fb6c54c     GNU C   \n",
       "3   a17bac596b1f060209534cbffdf0f40e     GNU C   \n",
       "4   702ec7a08b8472fa843acb6f2107e583   GNU C++   \n",
       "5   c23d3ec2b9fb4b4d169bc8053bfd000e   GNU C++   \n",
       "6   0996e41d0630e56472399bc81544756b   GNU C++   \n",
       "7   00480885be97002dca98fe98a4238aee   GNU C++   \n",
       "8   369f37d3487ba8c158e24f5ca759287b   GNU C++   \n",
       "9   dfd0814d912a7f2dfe31744ad1c778ae   GNU C++   \n",
       "10  970cd8ce0cf7214b7f2be337990557c9   GNU C++   \n",
       "11  1d73b315694f2ebbf796654193372730   GNU C++   \n",
       "12  a6cba17c5ddb93f6741e00280fb6c54c   GNU C++   \n",
       "13  ffa25047060e4741d8eddf2b91b1ca23   GNU C++   \n",
       "14  c31fed523230af1f904218b2fe0d663d   GNU C++   \n",
       "15  d3a0402de1338a1a542a86ac5b484acc   GNU C++   \n",
       "16  c175d010d75c391d0b25391fecff007c   GNU C++   \n",
       "17  9c30697e71102ae10c55c14d9c1db006   GNU C++   \n",
       "18  566adc43d2d6df257c26c5f5495a5745   GNU C++   \n",
       "19  e9c486e2d942700e0644dff29b6e3be6   GNU C++   \n",
       "20  5215112549723fea3f2c1fe0049e0b2e   GNU C++   \n",
       "21  cb47d710361979de0f975cc34fc22c7a   GNU C++   \n",
       "22  5e055bad1da5bdc84599d6f2f89fbd12   Mono C#   \n",
       "23  4ecbfc792da55f458342c6eff2d5da5a   Mono C#   \n",
       "24  f8315dc903b0542c453cab4577bcb20d   Mono C#   \n",
       "25  3d6411d67c85f6293f1999ccff2cd8ba   Mono C#   \n",
       "26  bd5912fe2c5c37658f28f6b159b39645   Mono C#   \n",
       "27  c3244e952830643938d51ce14f043d7d   Mono C#   \n",
       "28  a6cba17c5ddb93f6741e00280fb6c54c   Mono C#   \n",
       "29  991516fa6f3ed5a71c547a3a50ea1a2b   Mono C#   \n",
       "30  1ae2942b72ebb7c55359c41e141900d7   Mono C#   \n",
       "31  566adc43d2d6df257c26c5f5495a5745   Mono C#   \n",
       "32  867facaa8bcdfcb53ec3647387f7d23f   Mono C#   \n",
       "\n",
       "              time_baseline_code_uid  code_tokens  prompt_tokens  \n",
       "0   7753e47e11c7622bbe870861f92a4c1e         4476           5090  \n",
       "1   8d2e30036a9e1ba2f21c8d1e93023e00          890           1207  \n",
       "2   674d4476f23920b540b31614cba86481         1198           1882  \n",
       "3   a19e8c72a9d869d9e9a02e2bed4a0443         1624           2213  \n",
       "4   10887dde531ac9e6755e2b970e8169e5         1088           1538  \n",
       "5   64436b602ab2429463534e65451a19c7         1023           1752  \n",
       "6   b781fc676fbec394b21a5082ac0a0109          800           1399  \n",
       "7   06d994ff01f10c12154ea5db118111a3         1958           2607  \n",
       "8   001a05c8f74315f65ab4be3817e71a57         4417           4807  \n",
       "9   c78457e32745642efcc495ba47a6d3b4         1725           2301  \n",
       "10  969236f30c57aae82414bd5d0d72f2e9         3921           4248  \n",
       "11  c37ee62c72c01d23c416789e586b84a4         1673           2189  \n",
       "12  2b1c8f8ff4d223490ac14f9f6c8dce68          919           1604  \n",
       "13  d2ab0503ff0b707cedadf40b27428b5e         2175           2565  \n",
       "14  e2d73374a9b967eb10331745c3ccc8d7          890           1270  \n",
       "15  1e8150c54f7118e4f3ac865c5872f2fa          831           1204  \n",
       "16  1271a6f84274a5e359c3b2982085a10b          666           1245  \n",
       "17  0d6f770e277c7e4b927fd8a46a38ce81          583           1032  \n",
       "18  d75f3e820988be53e58820e790b50712          795           1111  \n",
       "19  107b05c470f863d213a04a42f67c849e         1058           1596  \n",
       "20  0728199d9048f2836d9f92480b475a0f          330            666  \n",
       "21  3354bae55ab1653d4f3fbb40fe0bbb9c         1040           1569  \n",
       "22  d1d225ac8c37069042ddfd019fa3def4          814           1132  \n",
       "23  c42633f96c323311b29e98f2ce0907aa          430            872  \n",
       "24  09545bca4d87c6dc757a405cd3508850         1096           1516  \n",
       "25  75019628e7f0a3fff88c4959cf8a44b5          275            726  \n",
       "26  229761440491c756aa2c761b237fdaf6          345            577  \n",
       "27  66701500efc7289162671d3c9260f165          437            892  \n",
       "28  11781cdf1336a2ed99a2c9a339ccd30d         1248           1933  \n",
       "29  6e016a9c6343b618444100a8cde444da          948           1451  \n",
       "30  497a6eb76cb3a56e13acb48bc19b427b         5831           6446  \n",
       "31  c9a4ce2cbee18773f505a1108261a965         1699           2015  \n",
       "32  80efe1c60fde92942ab7fb1dd5e37324          997           1443  "
      ]
     },
     "metadata": {},
     "output_type": "display_data"
    }
   ],
   "source": [
    "codellama_failed_mem = get_data_info(empty_rows(codellama_mem_path), 'mem', 'codellama')\n",
    "codellama_failed_time = get_data_info(empty_rows(codellama_time_path), 'time', 'codellama')\n",
    "display(codellama_failed_mem)\n",
    "display(codellama_failed_time)"
   ]
  },
  {
   "cell_type": "code",
   "execution_count": 131,
   "metadata": {},
   "outputs": [
    {
     "data": {
      "application/vnd.jupyter.widget-view+json": {
       "model_id": "4e499fdee3fb4f2f8d1b4b971729056f",
       "version_major": 2,
       "version_minor": 0
      },
      "text/plain": [
       "Filter:   0%|          | 0/121 [00:00<?, ? examples/s]"
      ]
     },
     "metadata": {},
     "output_type": "display_data"
    },
    {
     "data": {
      "application/vnd.jupyter.widget-view+json": {
       "model_id": "d2b43411560a4d929b2868cf7bfaf33c",
       "version_major": 2,
       "version_minor": 0
      },
      "text/plain": [
       "Map:   0%|          | 0/113 [00:00<?, ? examples/s]"
      ]
     },
     "metadata": {},
     "output_type": "display_data"
    },
    {
     "data": {
      "text/html": [
       "<div>\n",
       "<style scoped>\n",
       "    .dataframe tbody tr th:only-of-type {\n",
       "        vertical-align: middle;\n",
       "    }\n",
       "\n",
       "    .dataframe tbody tr th {\n",
       "        vertical-align: top;\n",
       "    }\n",
       "\n",
       "    .dataframe thead th {\n",
       "        text-align: right;\n",
       "    }\n",
       "</style>\n",
       "<table border=\"1\" class=\"dataframe\">\n",
       "  <thead>\n",
       "    <tr style=\"text-align: right;\">\n",
       "      <th></th>\n",
       "      <th>src_uid</th>\n",
       "      <th>lang</th>\n",
       "      <th>mem_baseline_code_uid</th>\n",
       "      <th>code_tokens</th>\n",
       "      <th>prompt_tokens</th>\n",
       "    </tr>\n",
       "  </thead>\n",
       "  <tbody>\n",
       "    <tr>\n",
       "      <th>42</th>\n",
       "      <td>a17bac596b1f060209534cbffdf0f40e</td>\n",
       "      <td>GNU C</td>\n",
       "      <td>2a4472a4a10c95db0f8620d5c2b692ea</td>\n",
       "      <td>1624</td>\n",
       "      <td>2245</td>\n",
       "    </tr>\n",
       "    <tr>\n",
       "      <th>63</th>\n",
       "      <td>c23d3ec2b9fb4b4d169bc8053bfd000e</td>\n",
       "      <td>GNU C++</td>\n",
       "      <td>c5916412903a6c823b9557f6796417c6</td>\n",
       "      <td>1406</td>\n",
       "      <td>2167</td>\n",
       "    </tr>\n",
       "    <tr>\n",
       "      <th>80</th>\n",
       "      <td>566adc43d2d6df257c26c5f5495a5745</td>\n",
       "      <td>GNU C++</td>\n",
       "      <td>ed358d58411a7ab7daa56c1035e6d7ac</td>\n",
       "      <td>2241</td>\n",
       "      <td>2589</td>\n",
       "    </tr>\n",
       "    <tr>\n",
       "      <th>87</th>\n",
       "      <td>f8315dc903b0542c453cab4577bcb20d</td>\n",
       "      <td>Mono C#</td>\n",
       "      <td>8dbecbe304244baa540fc15df607068e</td>\n",
       "      <td>1620</td>\n",
       "      <td>2073</td>\n",
       "    </tr>\n",
       "    <tr>\n",
       "      <th>94</th>\n",
       "      <td>a6cba17c5ddb93f6741e00280fb6c54c</td>\n",
       "      <td>Mono C#</td>\n",
       "      <td>4689cdd91cff9d9ff47ff863673c4a77</td>\n",
       "      <td>1348</td>\n",
       "      <td>2066</td>\n",
       "    </tr>\n",
       "    <tr>\n",
       "      <th>105</th>\n",
       "      <td>c175d010d75c391d0b25391fecff007c</td>\n",
       "      <td>Mono C#</td>\n",
       "      <td>310d028f0f6555fed72adcbbda69bb28</td>\n",
       "      <td>1577</td>\n",
       "      <td>2188</td>\n",
       "    </tr>\n",
       "  </tbody>\n",
       "</table>\n",
       "</div>"
      ],
      "text/plain": [
       "                              src_uid     lang   \n",
       "42   a17bac596b1f060209534cbffdf0f40e    GNU C  \\\n",
       "63   c23d3ec2b9fb4b4d169bc8053bfd000e  GNU C++   \n",
       "80   566adc43d2d6df257c26c5f5495a5745  GNU C++   \n",
       "87   f8315dc903b0542c453cab4577bcb20d  Mono C#   \n",
       "94   a6cba17c5ddb93f6741e00280fb6c54c  Mono C#   \n",
       "105  c175d010d75c391d0b25391fecff007c  Mono C#   \n",
       "\n",
       "                mem_baseline_code_uid  code_tokens  prompt_tokens  \n",
       "42   2a4472a4a10c95db0f8620d5c2b692ea         1624           2245  \n",
       "63   c5916412903a6c823b9557f6796417c6         1406           2167  \n",
       "80   ed358d58411a7ab7daa56c1035e6d7ac         2241           2589  \n",
       "87   8dbecbe304244baa540fc15df607068e         1620           2073  \n",
       "94   4689cdd91cff9d9ff47ff863673c4a77         1348           2066  \n",
       "105  310d028f0f6555fed72adcbbda69bb28         1577           2188  "
      ]
     },
     "execution_count": 131,
     "metadata": {},
     "output_type": "execute_result"
    }
   ],
   "source": [
    "df = get_data_info(time_ds.filter(lambda x: x['optimization_0']!=''), 'mem', 'vicuna')\n",
    "df[df['prompt_tokens']>2048]"
   ]
  },
  {
   "cell_type": "code",
   "execution_count": 125,
   "metadata": {},
   "outputs": [
    {
     "data": {
      "application/vnd.jupyter.widget-view+json": {
       "model_id": "f443902ca83f4c8f9419c38900cac149",
       "version_major": 2,
       "version_minor": 0
      },
      "text/plain": [
       "Map:   0%|          | 0/3 [00:00<?, ? examples/s]"
      ]
     },
     "metadata": {},
     "output_type": "display_data"
    },
    {
     "data": {
      "text/html": [
       "<div>\n",
       "<style scoped>\n",
       "    .dataframe tbody tr th:only-of-type {\n",
       "        vertical-align: middle;\n",
       "    }\n",
       "\n",
       "    .dataframe tbody tr th {\n",
       "        vertical-align: top;\n",
       "    }\n",
       "\n",
       "    .dataframe thead th {\n",
       "        text-align: right;\n",
       "    }\n",
       "</style>\n",
       "<table border=\"1\" class=\"dataframe\">\n",
       "  <thead>\n",
       "    <tr style=\"text-align: right;\">\n",
       "      <th></th>\n",
       "      <th>src_uid</th>\n",
       "      <th>lang</th>\n",
       "      <th>mem_baseline_code_uid</th>\n",
       "      <th>code_tokens</th>\n",
       "      <th>prompt_tokens</th>\n",
       "    </tr>\n",
       "  </thead>\n",
       "  <tbody>\n",
       "    <tr>\n",
       "      <th>0</th>\n",
       "      <td>369f37d3487ba8c158e24f5ca759287b</td>\n",
       "      <td>GNU C++</td>\n",
       "      <td>8e30009ff12625f543ba7fb2a045d89a</td>\n",
       "      <td>2923</td>\n",
       "      <td>3345</td>\n",
       "    </tr>\n",
       "    <tr>\n",
       "      <th>1</th>\n",
       "      <td>1d73b315694f2ebbf796654193372730</td>\n",
       "      <td>GNU C++</td>\n",
       "      <td>71b4e1e108665548d02d6be01c6798cd</td>\n",
       "      <td>1766</td>\n",
       "      <td>2314</td>\n",
       "    </tr>\n",
       "    <tr>\n",
       "      <th>2</th>\n",
       "      <td>566adc43d2d6df257c26c5f5495a5745</td>\n",
       "      <td>GNU C++</td>\n",
       "      <td>ed358d58411a7ab7daa56c1035e6d7ac</td>\n",
       "      <td>2241</td>\n",
       "      <td>2589</td>\n",
       "    </tr>\n",
       "  </tbody>\n",
       "</table>\n",
       "</div>"
      ],
      "text/plain": [
       "                            src_uid     lang   \n",
       "0  369f37d3487ba8c158e24f5ca759287b  GNU C++  \\\n",
       "1  1d73b315694f2ebbf796654193372730  GNU C++   \n",
       "2  566adc43d2d6df257c26c5f5495a5745  GNU C++   \n",
       "\n",
       "              mem_baseline_code_uid  code_tokens  prompt_tokens  \n",
       "0  8e30009ff12625f543ba7fb2a045d89a         2923           3345  \n",
       "1  71b4e1e108665548d02d6be01c6798cd         1766           2314  \n",
       "2  ed358d58411a7ab7daa56c1035e6d7ac         2241           2589  "
      ]
     },
     "execution_count": 125,
     "metadata": {},
     "output_type": "execute_result"
    }
   ],
   "source": [
    "get_data_info(failed_mem, 'mem', 'vicuna')"
   ]
  },
  {
   "cell_type": "code",
   "execution_count": 126,
   "metadata": {},
   "outputs": [
    {
     "data": {
      "application/vnd.jupyter.widget-view+json": {
       "model_id": "b469ca3ca6f24c37b004ec5fb00dd8af",
       "version_major": 2,
       "version_minor": 0
      },
      "text/plain": [
       "Map:   0%|          | 0/8 [00:00<?, ? examples/s]"
      ]
     },
     "metadata": {},
     "output_type": "display_data"
    },
    {
     "data": {
      "text/html": [
       "<div>\n",
       "<style scoped>\n",
       "    .dataframe tbody tr th:only-of-type {\n",
       "        vertical-align: middle;\n",
       "    }\n",
       "\n",
       "    .dataframe tbody tr th {\n",
       "        vertical-align: top;\n",
       "    }\n",
       "\n",
       "    .dataframe thead th {\n",
       "        text-align: right;\n",
       "    }\n",
       "</style>\n",
       "<table border=\"1\" class=\"dataframe\">\n",
       "  <thead>\n",
       "    <tr style=\"text-align: right;\">\n",
       "      <th></th>\n",
       "      <th>src_uid</th>\n",
       "      <th>lang</th>\n",
       "      <th>time_baseline_code_uid</th>\n",
       "      <th>code_tokens</th>\n",
       "      <th>prompt_tokens</th>\n",
       "    </tr>\n",
       "  </thead>\n",
       "  <tbody>\n",
       "    <tr>\n",
       "      <th>0</th>\n",
       "      <td>1ae2942b72ebb7c55359c41e141900d7</td>\n",
       "      <td>Python 3</td>\n",
       "      <td>7753e47e11c7622bbe870861f92a4c1e</td>\n",
       "      <td>4476</td>\n",
       "      <td>5122</td>\n",
       "    </tr>\n",
       "    <tr>\n",
       "      <th>1</th>\n",
       "      <td>00480885be97002dca98fe98a4238aee</td>\n",
       "      <td>GNU C++</td>\n",
       "      <td>06d994ff01f10c12154ea5db118111a3</td>\n",
       "      <td>1958</td>\n",
       "      <td>2639</td>\n",
       "    </tr>\n",
       "    <tr>\n",
       "      <th>2</th>\n",
       "      <td>369f37d3487ba8c158e24f5ca759287b</td>\n",
       "      <td>GNU C++</td>\n",
       "      <td>001a05c8f74315f65ab4be3817e71a57</td>\n",
       "      <td>4417</td>\n",
       "      <td>4839</td>\n",
       "    </tr>\n",
       "    <tr>\n",
       "      <th>3</th>\n",
       "      <td>dfd0814d912a7f2dfe31744ad1c778ae</td>\n",
       "      <td>GNU C++</td>\n",
       "      <td>c78457e32745642efcc495ba47a6d3b4</td>\n",
       "      <td>1725</td>\n",
       "      <td>2333</td>\n",
       "    </tr>\n",
       "    <tr>\n",
       "      <th>4</th>\n",
       "      <td>970cd8ce0cf7214b7f2be337990557c9</td>\n",
       "      <td>GNU C++</td>\n",
       "      <td>969236f30c57aae82414bd5d0d72f2e9</td>\n",
       "      <td>3921</td>\n",
       "      <td>4280</td>\n",
       "    </tr>\n",
       "    <tr>\n",
       "      <th>5</th>\n",
       "      <td>1d73b315694f2ebbf796654193372730</td>\n",
       "      <td>GNU C++</td>\n",
       "      <td>c37ee62c72c01d23c416789e586b84a4</td>\n",
       "      <td>1673</td>\n",
       "      <td>2221</td>\n",
       "    </tr>\n",
       "    <tr>\n",
       "      <th>6</th>\n",
       "      <td>ffa25047060e4741d8eddf2b91b1ca23</td>\n",
       "      <td>GNU C++</td>\n",
       "      <td>d2ab0503ff0b707cedadf40b27428b5e</td>\n",
       "      <td>2175</td>\n",
       "      <td>2597</td>\n",
       "    </tr>\n",
       "    <tr>\n",
       "      <th>7</th>\n",
       "      <td>1ae2942b72ebb7c55359c41e141900d7</td>\n",
       "      <td>Mono C#</td>\n",
       "      <td>497a6eb76cb3a56e13acb48bc19b427b</td>\n",
       "      <td>5831</td>\n",
       "      <td>6478</td>\n",
       "    </tr>\n",
       "  </tbody>\n",
       "</table>\n",
       "</div>"
      ],
      "text/plain": [
       "                            src_uid      lang   \n",
       "0  1ae2942b72ebb7c55359c41e141900d7  Python 3  \\\n",
       "1  00480885be97002dca98fe98a4238aee   GNU C++   \n",
       "2  369f37d3487ba8c158e24f5ca759287b   GNU C++   \n",
       "3  dfd0814d912a7f2dfe31744ad1c778ae   GNU C++   \n",
       "4  970cd8ce0cf7214b7f2be337990557c9   GNU C++   \n",
       "5  1d73b315694f2ebbf796654193372730   GNU C++   \n",
       "6  ffa25047060e4741d8eddf2b91b1ca23   GNU C++   \n",
       "7  1ae2942b72ebb7c55359c41e141900d7   Mono C#   \n",
       "\n",
       "             time_baseline_code_uid  code_tokens  prompt_tokens  \n",
       "0  7753e47e11c7622bbe870861f92a4c1e         4476           5122  \n",
       "1  06d994ff01f10c12154ea5db118111a3         1958           2639  \n",
       "2  001a05c8f74315f65ab4be3817e71a57         4417           4839  \n",
       "3  c78457e32745642efcc495ba47a6d3b4         1725           2333  \n",
       "4  969236f30c57aae82414bd5d0d72f2e9         3921           4280  \n",
       "5  c37ee62c72c01d23c416789e586b84a4         1673           2221  \n",
       "6  d2ab0503ff0b707cedadf40b27428b5e         2175           2597  \n",
       "7  497a6eb76cb3a56e13acb48bc19b427b         5831           6478  "
      ]
     },
     "execution_count": 126,
     "metadata": {},
     "output_type": "execute_result"
    }
   ],
   "source": [
    "get_data_info(failed_time, 'time', 'vicuna')"
   ]
  },
  {
   "cell_type": "markdown",
   "metadata": {},
   "source": [
    "## 补充生成的数据集（也可能有空数据）"
   ]
  },
  {
   "cell_type": "code",
   "execution_count": 20,
   "metadata": {},
   "outputs": [
    {
     "data": {
      "text/plain": [
       "(Dataset({\n",
       "     features: ['src_uid', 'lang', 'mem_baseline_code_uid', 'mem_baseline_code', 'mem_baseline_perf', 'time_baseline_code_uid', 'time_baseline_code', 'time_baseline_perf', 'task_description', 'testcases', 'optimization_0', 'optimization_1', 'optimization_2', 'optimization_3', 'optimization_4'],\n",
       "     num_rows: 0\n",
       " }),\n",
       " Dataset({\n",
       "     features: ['src_uid', 'lang', 'mem_baseline_code_uid', 'mem_baseline_code', 'mem_baseline_perf', 'time_baseline_code_uid', 'time_baseline_code', 'time_baseline_perf', 'task_description', 'testcases', 'optimization_0', 'optimization_1', 'optimization_2', 'optimization_3', 'optimization_4'],\n",
       "     num_rows: 1\n",
       " }))"
      ]
     },
     "execution_count": 20,
     "metadata": {},
     "output_type": "execute_result"
    }
   ],
   "source": [
    "CS_mem_path = \"./mem_code_opt_inference_wizardcoder_CS.jsonl\"\n",
    "CS_time_path = \"./time_code_opt_inference_wizardcoder_CS.jsonl\"\n",
    "CS_mem_ds = load_dataset(\"json\", data_files=CS_mem_path, split=\"train\")\n",
    "CS_time_ds = load_dataset(\"json\", data_files=CS_time_path, split=\"train\")\n",
    "CS_failed_mem = CS_mem_ds.filter(lambda x: x['optimization_0']=='')\n",
    "CS_failed_time = CS_time_ds.filter(lambda x: x['optimization_0']=='')\n",
    "CS_failed_mem,CS_failed_time"
   ]
  },
  {
   "cell_type": "code",
   "execution_count": 21,
   "metadata": {},
   "outputs": [
    {
     "data": {
      "text/plain": [
       "(Dataset({\n",
       "     features: ['src_uid', 'lang', 'mem_baseline_code_uid', 'mem_baseline_code', 'mem_baseline_perf', 'time_baseline_code_uid', 'time_baseline_code', 'time_baseline_perf', 'task_description', 'testcases', 'optimization_0', 'optimization_1', 'optimization_2', 'optimization_3', 'optimization_4'],\n",
       "     num_rows: 3\n",
       " }),\n",
       " Dataset({\n",
       "     features: ['src_uid', 'lang', 'mem_baseline_code_uid', 'mem_baseline_code', 'mem_baseline_perf', 'time_baseline_code_uid', 'time_baseline_code', 'time_baseline_perf', 'task_description', 'testcases', 'optimization_0', 'optimization_1', 'optimization_2', 'optimization_3', 'optimization_4'],\n",
       "     num_rows: 10\n",
       " }))"
      ]
     },
     "execution_count": 21,
     "metadata": {},
     "output_type": "execute_result"
    }
   ],
   "source": [
    "CPP_mem_path = \"./mem_code_opt_inference_wizardcoder_CPP.jsonl\"\n",
    "CPP_time_path = \"./time_code_opt_inference_wizardcoder_CPP.jsonl\"\n",
    "CPP_mem_ds = load_dataset(\"json\", data_files=CPP_mem_path, split=\"train\")\n",
    "CPP_time_ds = load_dataset(\"json\", data_files=CPP_time_path, split=\"train\")\n",
    "CPP_failed_mem = CPP_mem_ds.filter(lambda x: x['optimization_0']=='')\n",
    "CPP_failed_time = CPP_time_ds.filter(lambda x: x['optimization_0']=='')\n",
    "CPP_failed_mem,CPP_failed_time"
   ]
  },
  {
   "cell_type": "markdown",
   "metadata": {},
   "source": [
    "## 查看数据集和补充数据集的空项是否重合"
   ]
  },
  {
   "cell_type": "code",
   "execution_count": 30,
   "metadata": {},
   "outputs": [
    {
     "data": {
      "text/plain": [
       "(Dataset({\n",
       "     features: ['src_uid', 'lang', 'mem_baseline_code_uid', 'mem_baseline_code', 'mem_baseline_perf', 'time_baseline_code_uid', 'time_baseline_code', 'time_baseline_perf', 'task_description', 'testcases', 'optimization_0', 'optimization_1', 'optimization_2', 'optimization_3', 'optimization_4'],\n",
       "     num_rows: 1\n",
       " }),\n",
       " Dataset({\n",
       "     features: ['src_uid', 'lang', 'mem_baseline_code_uid', 'mem_baseline_code', 'mem_baseline_perf', 'time_baseline_code_uid', 'time_baseline_code', 'time_baseline_perf', 'task_description', 'testcases', 'optimization_0', 'optimization_1', 'optimization_2', 'optimization_3', 'optimization_4'],\n",
       "     num_rows: 24\n",
       " }),\n",
       " Dataset({\n",
       "     features: ['src_uid', 'lang', 'mem_baseline_code_uid', 'mem_baseline_code', 'mem_baseline_perf', 'time_baseline_code_uid', 'time_baseline_code', 'time_baseline_perf', 'task_description', 'testcases', 'optimization_0', 'optimization_1', 'optimization_2', 'optimization_3', 'optimization_4'],\n",
       "     num_rows: 30\n",
       " }))"
      ]
     },
     "execution_count": 30,
     "metadata": {},
     "output_type": "execute_result"
    }
   ],
   "source": [
    "failed_time.filter(lambda x: x['lang']=='Python 3'), failed_time.filter(lambda x: x['lang']=='GNU C++'), failed_time.filter(lambda x: x['lang']=='Mono C#')"
   ]
  },
  {
   "cell_type": "code",
   "execution_count": 34,
   "metadata": {},
   "outputs": [
    {
     "data": {
      "application/vnd.jupyter.widget-view+json": {
       "model_id": "d6cd6c746aca439c9b929a7a446cdc95",
       "version_major": 2,
       "version_minor": 0
      },
      "text/plain": [
       "Filter:   0%|          | 0/55 [00:00<?, ? examples/s]"
      ]
     },
     "metadata": {},
     "output_type": "display_data"
    },
    {
     "data": {
      "text/plain": [
       "False"
      ]
     },
     "execution_count": 34,
     "metadata": {},
     "output_type": "execute_result"
    }
   ],
   "source": [
    "all(src_uid in failed_time.filter(lambda x: x['lang']=='Mono C#')['src_uid'] for src_uid in CS_failed_time)"
   ]
  },
  {
   "cell_type": "code",
   "execution_count": 33,
   "metadata": {},
   "outputs": [
    {
     "data": {
      "text/plain": [
       "False"
      ]
     },
     "execution_count": 33,
     "metadata": {},
     "output_type": "execute_result"
    }
   ],
   "source": [
    "all(src_uid in failed_time.filter(lambda x: x['lang']=='GNU C++')['src_uid'] for src_uid in CPP_failed_time)"
   ]
  },
  {
   "cell_type": "markdown",
   "metadata": {},
   "source": [
    "重合项"
   ]
  },
  {
   "cell_type": "code",
   "execution_count": 37,
   "metadata": {},
   "outputs": [
    {
     "data": {
      "text/plain": [
       "{'1ae2942b72ebb7c55359c41e141900d7'}"
      ]
     },
     "execution_count": 37,
     "metadata": {},
     "output_type": "execute_result"
    }
   ],
   "source": [
    "set(failed_time.filter(lambda x: x['lang']=='Mono C#')['src_uid']) & set(CS_failed_time['src_uid'])"
   ]
  },
  {
   "cell_type": "code",
   "execution_count": 38,
   "metadata": {},
   "outputs": [
    {
     "data": {
      "text/plain": [
       "set()"
      ]
     },
     "execution_count": 38,
     "metadata": {},
     "output_type": "execute_result"
    }
   ],
   "source": [
    "set(failed_time.filter(lambda x: x['lang']=='GNU C++')['src_uid']) & set(CS_failed_time['src_uid'])"
   ]
  },
  {
   "cell_type": "markdown",
   "metadata": {},
   "source": [
    "## 将补充数据替换进数据集"
   ]
  },
  {
   "cell_type": "code",
   "execution_count": 43,
   "metadata": {},
   "outputs": [],
   "source": [
    "def replace_empty_mem(data):\n",
    "    if data['optimization_0']=='':# 生成失败的\n",
    "        if data['lang']=='Mono C#':\n",
    "            data = CS_mem_ds.filter(lambda x: x['lang']=='Mono C#' and x['src_uid']==data['src_uid'])[0]\n",
    "        elif data['lang']=='GNU C++':\n",
    "            data = CPP_mem_ds.filter(lambda x: x['lang']=='GNU C++' and x['src_uid']==data['src_uid'])[0]\n",
    "        else:\n",
    "            print(f\"cannot find relacement for empty row: lang={data['lang']} src_uid={data['src_uid']}\")\n",
    "    return data\n",
    "def replace_empty_time(data):\n",
    "    if data['optimization_0']=='':# 生成失败的\n",
    "        if data['lang']=='Mono C#':\n",
    "            data = CS_time_ds.filter(lambda x: x['lang']=='Mono C#' and x['src_uid']==data['src_uid'])[0]\n",
    "        elif data['lang']=='GNU C++':\n",
    "            data = CPP_time_ds.filter(lambda x: x['lang']=='GNU C++' and x['src_uid']==data['src_uid'])[0]\n",
    "        else:\n",
    "            print(f\"cannot find relacement for empty row: lang={data['lang']} src_uid={data['src_uid']}\")\n",
    "    return data\n"
   ]
  },
  {
   "cell_type": "code",
   "execution_count": null,
   "metadata": {},
   "outputs": [],
   "source": [
    "replaced_mem_ds = mem_ds.map(replace_empty_mem)\n",
    "replaced_time_ds = time_ds.map(replace_empty_time)"
   ]
  },
  {
   "cell_type": "code",
   "execution_count": null,
   "metadata": {},
   "outputs": [],
   "source": [
    "replaced_mem_ds.to_json(\"./mem_code_opt_inference_wizardcoder_replaced1.jsonl\")\n",
    "replaced_time_ds.to_json(\"./time_code_opt_inference_wizardcoder_replaced1.jsonl\")"
   ]
  },
  {
   "cell_type": "markdown",
   "metadata": {},
   "source": [
    "## 查看补充之后的结果"
   ]
  },
  {
   "cell_type": "markdown",
   "metadata": {},
   "source": [
    "wizardcoder"
   ]
  },
  {
   "cell_type": "code",
   "execution_count": 48,
   "metadata": {},
   "outputs": [
    {
     "data": {
      "application/vnd.jupyter.widget-view+json": {
       "model_id": "ada9d9586db9409cb80a2bda585cc6f4",
       "version_major": 2,
       "version_minor": 0
      },
      "text/plain": [
       "Filter:   0%|          | 0/121 [00:00<?, ? examples/s]"
      ]
     },
     "metadata": {},
     "output_type": "display_data"
    },
    {
     "data": {
      "text/plain": [
       "Dataset({\n",
       "    features: ['src_uid', 'lang', 'mem_baseline_code_uid', 'mem_baseline_code', 'mem_baseline_perf', 'time_baseline_code_uid', 'time_baseline_code', 'time_baseline_perf', 'task_description', 'testcases', 'optimization_0', 'optimization_1', 'optimization_2', 'optimization_3', 'optimization_4'],\n",
       "    num_rows: 3\n",
       "})"
      ]
     },
     "execution_count": 48,
     "metadata": {},
     "output_type": "execute_result"
    }
   ],
   "source": [
    "empty_rows(replaced_mem_ds)"
   ]
  },
  {
   "cell_type": "code",
   "execution_count": 49,
   "metadata": {},
   "outputs": [
    {
     "data": {
      "application/vnd.jupyter.widget-view+json": {
       "model_id": "5e56d45a0d4b4cdeb39ffae7fcfcecff",
       "version_major": 2,
       "version_minor": 0
      },
      "text/plain": [
       "Filter:   0%|          | 0/121 [00:00<?, ? examples/s]"
      ]
     },
     "metadata": {},
     "output_type": "display_data"
    },
    {
     "data": {
      "text/plain": [
       "Dataset({\n",
       "    features: ['src_uid', 'lang', 'mem_baseline_code_uid', 'mem_baseline_code', 'mem_baseline_perf', 'time_baseline_code_uid', 'time_baseline_code', 'time_baseline_perf', 'task_description', 'testcases', 'optimization_0', 'optimization_1', 'optimization_2', 'optimization_3', 'optimization_4'],\n",
       "    num_rows: 12\n",
       "})"
      ]
     },
     "execution_count": 49,
     "metadata": {},
     "output_type": "execute_result"
    }
   ],
   "source": [
    "empty_rows(replaced_time_ds)"
   ]
  },
  {
   "cell_type": "markdown",
   "metadata": {},
   "source": [
    "Vicuna"
   ]
  },
  {
   "cell_type": "code",
   "execution_count": 54,
   "metadata": {},
   "outputs": [
    {
     "data": {
      "application/vnd.jupyter.widget-view+json": {
       "model_id": "ffb171a1587242e59bbbbd7a21cb05d1",
       "version_major": 2,
       "version_minor": 0
      },
      "text/plain": [
       "Filter:   0%|          | 0/121 [00:00<?, ? examples/s]"
      ]
     },
     "metadata": {},
     "output_type": "display_data"
    },
    {
     "data": {
      "application/vnd.jupyter.widget-view+json": {
       "model_id": "4a9b060eeb7e4f1597f17e20a3857632",
       "version_major": 2,
       "version_minor": 0
      },
      "text/plain": [
       "Filter:   0%|          | 0/121 [00:00<?, ? examples/s]"
      ]
     },
     "metadata": {},
     "output_type": "display_data"
    },
    {
     "data": {
      "text/plain": [
       "(Dataset({\n",
       "     features: ['src_uid', 'lang', 'mem_baseline_code_uid', 'mem_baseline_code', 'mem_baseline_perf', 'time_baseline_code_uid', 'time_baseline_code', 'time_baseline_perf', 'task_description', 'testcases', 'optimization_0', 'optimization_1', 'optimization_2', 'optimization_3', 'optimization_4'],\n",
       "     num_rows: 3\n",
       " }),\n",
       " Dataset({\n",
       "     features: ['src_uid', 'lang', 'mem_baseline_code_uid', 'mem_baseline_code', 'mem_baseline_perf', 'time_baseline_code_uid', 'time_baseline_code', 'time_baseline_perf', 'task_description', 'testcases', 'optimization_0', 'optimization_1', 'optimization_2', 'optimization_3', 'optimization_4'],\n",
       "     num_rows: 10\n",
       " }))"
      ]
     },
     "execution_count": 54,
     "metadata": {},
     "output_type": "execute_result"
    }
   ],
   "source": [
    "mem_path = \"./mem_code_opt_inference_vicuna.jsonl\"\n",
    "time_path = \"./time_code_opt_inference_vicuna.jsonl\"\n",
    "mem_ds = load_dataset(\"json\", data_files=mem_path, split=\"train\")\n",
    "time_ds = load_dataset(\"json\", data_files=time_path, split=\"train\")\n",
    "empty_rows(mem_ds), empty_rows(time_ds)"
   ]
  },
  {
   "cell_type": "markdown",
   "metadata": {},
   "source": [
    "codellama"
   ]
  },
  {
   "cell_type": "code",
   "execution_count": 57,
   "metadata": {},
   "outputs": [
    {
     "data": {
      "text/plain": [
       "(Dataset({\n",
       "     features: ['src_uid', 'lang', 'mem_baseline_code_uid', 'mem_baseline_code', 'mem_baseline_perf', 'time_baseline_code_uid', 'time_baseline_code', 'time_baseline_perf', 'task_description', 'testcases', 'optimization_0', 'optimization_1', 'optimization_2', 'optimization_3', 'optimization_4'],\n",
       "     num_rows: 51\n",
       " }),\n",
       " Dataset({\n",
       "     features: ['src_uid', 'lang', 'mem_baseline_code_uid', 'mem_baseline_code', 'mem_baseline_perf', 'time_baseline_code_uid', 'time_baseline_code', 'time_baseline_perf', 'task_description', 'testcases', 'optimization_0', 'optimization_1', 'optimization_2', 'optimization_3', 'optimization_4'],\n",
       "     num_rows: 86\n",
       " }))"
      ]
     },
     "execution_count": 57,
     "metadata": {},
     "output_type": "execute_result"
    }
   ],
   "source": [
    "mem_path = \"./mem_code_opt_data_codellama.jsonl\"\n",
    "time_path = \"./time_code_opt_data_codellama.jsonl\"\n",
    "mem_ds = load_dataset(\"json\", data_files=mem_path, split=\"train\")\n",
    "time_ds = load_dataset(\"json\", data_files=time_path, split=\"train\")\n",
    "empty_rows(mem_ds), empty_rows(time_ds)"
   ]
  },
  {
   "cell_type": "markdown",
   "metadata": {},
   "source": [
    "gpt3.5"
   ]
  },
  {
   "cell_type": "code",
   "execution_count": 64,
   "metadata": {},
   "outputs": [
    {
     "data": {
      "text/plain": [
       "(Dataset({\n",
       "     features: ['src_uid', 'lang', 'mem_baseline_code_uid', 'mem_baseline_code', 'mem_baseline_perf', 'time_baseline_code_uid', 'time_baseline_code', 'time_baseline_perf', 'task_description', 'testcases', 'optimization_0', 'optimization_1', 'optimization_2', 'optimization_3', 'optimization_4'],\n",
       "     num_rows: 0\n",
       " }),\n",
       " Dataset({\n",
       "     features: ['src_uid', 'lang', 'mem_baseline_code_uid', 'mem_baseline_code', 'mem_baseline_perf', 'time_baseline_code_uid', 'time_baseline_code', 'time_baseline_perf', 'task_description', 'testcases', 'optimization_0', 'optimization_1', 'optimization_2', 'optimization_3', 'optimization_4'],\n",
       "     num_rows: 1\n",
       " }))"
      ]
     },
     "execution_count": 64,
     "metadata": {},
     "output_type": "execute_result"
    }
   ],
   "source": [
    "mem_path = \"./mem_code_opt_data_gpt3.jsonl\"\n",
    "time_path = \"./time_code_opt_data_gpt3.jsonl\"\n",
    "mem_ds = load_dataset(\"json\", data_files=mem_path, split=\"train\")\n",
    "time_ds = load_dataset(\"json\", data_files=time_path, split=\"train\")\n",
    "empty_rows(mem_ds), empty_rows(time_ds)"
   ]
  },
  {
   "cell_type": "markdown",
   "metadata": {},
   "source": [
    "palm"
   ]
  },
  {
   "cell_type": "code",
   "execution_count": 61,
   "metadata": {},
   "outputs": [
    {
     "data": {
      "text/plain": [
       "(Dataset({\n",
       "     features: ['src_uid', 'lang', 'mem_baseline_code_uid', 'mem_baseline_code', 'mem_baseline_perf', 'time_baseline_code_uid', 'time_baseline_code', 'time_baseline_perf', 'task_description', 'testcases', 'optimization_0', 'optimization_1', 'optimization_2', 'optimization_3', 'optimization_4'],\n",
       "     num_rows: 0\n",
       " }),\n",
       " Dataset({\n",
       "     features: ['src_uid', 'lang', 'mem_baseline_code_uid', 'mem_baseline_code', 'mem_baseline_perf', 'time_baseline_code_uid', 'time_baseline_code', 'time_baseline_perf', 'task_description', 'testcases', 'optimization_0', 'optimization_1', 'optimization_2', 'optimization_3', 'optimization_4'],\n",
       "     num_rows: 1\n",
       " }))"
      ]
     },
     "execution_count": 61,
     "metadata": {},
     "output_type": "execute_result"
    }
   ],
   "source": [
    "mem_path = \"./mem_code_opt_data_palm.jsonl\"\n",
    "time_path = \"./time_code_opt_data_palm.jsonl\"\n",
    "mem_ds = load_dataset(\"json\", data_files=mem_path, split=\"train\")\n",
    "time_ds = load_dataset(\"json\", data_files=time_path, split=\"train\")\n",
    "empty_rows(mem_ds), empty_rows(time_ds)"
   ]
  },
  {
   "cell_type": "code",
   "execution_count": 68,
   "metadata": {},
   "outputs": [
    {
     "data": {
      "text/plain": [
       "{'src_uid': '1ae2942b72ebb7c55359c41e141900d7',\n",
       " 'lang': 'Mono C#',\n",
       " 'mem_baseline_code_uid': 'd2f59a1950dc9af6f81f113cf4048abd',\n",
       " 'mem_baseline_code': '\\ufeffusing System;\\nusing System.Collections.Generic;\\nusing System.Text;\\n\\n\\npublic class taskA\\n{\\n    static void Main(string[] args)\\n    {\\n        string inp = Console.ReadLine();\\n        int n = int.Parse(inp);\\n\\n        string ps = Console.ReadLine();\\n        long[] p = new long[n];\\n        string[] spl = ps.Split(\\' \\');\\n        for (int i = 0; i < n; i++)\\n            p[i] = long.Parse(spl[i]);\\n\\n        string costs = Console.ReadLine();\\n        spl = costs.Split(\\' \\');\\n        long[] c = new long[5];\\n        for(int i=0; i<5; i++)\\n            c[i] = long.Parse(spl[i]);\\n\\n        long balance = 0;\\n        long[] counts = new long[5];\\n\\n        for (int i = 0; i < n; i++)\\n        {\\n            balance += p[i];\\n\\n            for (int j = 4; j >= 0; j--)\\n            {\\n                if (balance >= c[j])\\n                {\\n                    counts[j] += balance / c[j];\\n                    balance %= c[j];\\n                }\\n            }\\n        }\\n\\n        for (int i = 0; i < 5; i++)\\n            Console.Write(\"{0} \", counts[i]);\\n        Console.WriteLine();\\n        Console.WriteLine(balance);\\n    }\\n}\\n',\n",
       " 'mem_baseline_perf': 99.6129032258,\n",
       " 'time_baseline_code_uid': '497a6eb76cb3a56e13acb48bc19b427b',\n",
       " 'time_baseline_code': 'using System;\\nusing System.Collections.Generic;\\nusing System.Globalization;\\nusing System.IO;\\nusing System.Linq;\\n\\nnamespace Temp\\n{    \\n    struct PointInt\\n    {\\n        public long X;\\n\\n        public long Y;\\n\\n        public PointInt(long x, long y)\\n            : this()\\n        {\\n            this.X = x;\\n            this.Y = y;\\n        }\\n\\n        public static PointInt operator +(PointInt a, PointInt b)\\n        {\\n            return new PointInt(a.X + b.X, a.Y + b.Y);\\n        }\\n\\n        public static PointInt operator -(PointInt a, PointInt b)\\n        {\\n            return new PointInt(a.X - b.X, a.Y - b.Y);\\n        }\\n\\n        public static PointInt operator *(PointInt a, long k)\\n        {\\n            return new PointInt(k * a.X, k * a.Y);\\n        }\\n\\n        public static PointInt operator *(long k, PointInt a)\\n        {\\n            return new PointInt(k * a.X, k * a.Y);\\n        }\\n\\n        public bool IsInsideRectangle(long l, long b, long r, long t)\\n        {\\n            return (l <= X) && (X <= r) && (b <= Y) && (Y <= t);\\n        }\\n    }\\n\\n    struct LineInt\\n    {\\n        public LineInt(PointInt a, PointInt b)\\n            : this()\\n        {\\n            A = a.Y - b.Y;\\n            B = b.X - a.X;\\n            C = a.X * b.Y - a.Y * b.X;\\n        }\\n\\n        public long A, B, C;\\n\\n        public bool ContainsPoint(PointInt p)\\n        {\\n            return A * p.X + B * p.Y + C == 0;\\n        }\\n    }\\n\\n    class MatrixInt\\n    {\\n        private long[,] m_Matrix;\\n\\n        public int Size\\n        {\\n            get\\n            {\\n                return m_Matrix.GetLength(0) - 1;\\n            }\\n        }\\n\\n        public long Mod { get; private set; }\\n\\n        public MatrixInt(int size, long mod = 0)\\n        {\\n            m_Matrix = new long[size + 1, size + 1];\\n            Mod = mod;\\n        }\\n\\n        public MatrixInt(long[,] matrix, long mod = 0)\\n        {\\n            this.m_Matrix = matrix;\\n            Mod = mod;\\n        }\\n\\n        public static MatrixInt GetIdentityMatrix(int size, long mod = 0)\\n        {\\n            long[,] matrix = new long[size + 1, size + 1];\\n\\n            for (int i = 1; i <= size; i++)\\n            {\\n                matrix[i, i] = 1;\\n            }\\n\\n            return new MatrixInt(matrix, mod);\\n        }\\n\\n        public long this[int i, int j]\\n        {\\n            get\\n            {\\n                return m_Matrix[i, j];\\n            }\\n\\n            set\\n            {\\n                m_Matrix[i, j] = value;\\n            }\\n        }\\n\\n        public static MatrixInt operator +(MatrixInt a, MatrixInt b)\\n        {\\n            int n = a.Size;\\n            long mod = Math.Max(a.Mod, b.Mod);\\n            long[,] c = new long[n, n];\\n            for (int i = 1; i <= n; i++)\\n            {\\n                for (int j = 1; j <= n; j++)\\n                {\\n                    c[i, j] = a[i, j] + b[i, j];                    \\n                }\\n            }\\n\\n            if (mod > 0)\\n            {\\n                for (int i = 1; i <= n; i++)\\n                {\\n                    for (int j = 1; j <= n; j++)\\n                    {\\n                        c[i, j] %= mod;\\n                    }\\n                }\\n            }\\n\\n            return new MatrixInt(c, mod);\\n        }\\n\\n        public static MatrixInt operator *(MatrixInt a, MatrixInt b)\\n        {\\n            int n = a.Size;\\n            long mod = Math.Max(a.Mod, b.Mod);\\n\\n            long[,] c = new long[n, n];\\n\\n            for (int i = 1; i <= n; i++)\\n            {\\n                for (int j = 1; j <= n; j++)\\n                {\\n                    for (int k = 1; k <= n; k++)\\n                    {\\n                        c[i, j] += a[i, k] * b[k, j];\\n                        if (mod > 0)\\n                        {\\n                            c[i, j] %= mod;\\n                        }\\n                    }                    \\n                }\\n            }\\n\\n            return new MatrixInt(c, mod);\\n        }\\n    }\\n\\n    static class Algebra\\n    {\\n        public static long Phi(long n)\\n        {\\n            long result = n;\\n            for (long i = 2; i * i <= n; i++)\\n            {\\n                if (n % i == 0)\\n                {\\n                    while (n % i == 0)\\n                    {\\n                        n /= i;\\n                    }\\n\\n                    result -= result / i;\\n                }\\n            }\\n\\n            if (n > 1)\\n            {\\n                result -= result / n;\\n            }\\n\\n            return result;\\n        }\\n\\n        public static long BinPower(long a, long n, long mod)\\n        {\\n            long result = 1;\\n\\n            while (n > 0)\\n            {\\n                if ((n & 1) != 0)\\n                {\\n                    result = (result * a) % mod;\\n                }\\n\\n                a = (a * a) % mod;\\n                n >>= 1;\\n            }\\n\\n            return result;\\n        }\\n\\n        public static class Permutations\\n        {\\n            public static int[] GetRandomPermutation(int n)\\n            {\\n                int[] p = new int[n];\\n                for (int i = 0; i < n; i++)\\n                {\\n                    p[i] = i;\\n                }\\n\\n                Random random = new Random();\\n                for (int i = n - 1; i > 0; i--)\\n                {\\n                    int j = random.Next(i + 1);\\n                    int tmp = p[i];\\n                    p[i] = p[j];\\n                    p[j] = tmp;\\n                }\\n\\n                return p;\\n            }\\n        }\\n\\n        public static T[] Shuffle<T>(this T[] array)\\n        {\\n            int length = array.Length;\\n            int[] p = Permutations.GetRandomPermutation(length);\\n            T[] result = new T[length];\\n            for (int i = 0; i < length; i++)\\n            {\\n                result[i] = array[p[i]];\\n            }\\n\\n            return result;\\n        }\\n\\n        public static MatrixInt MatrixBinPower(MatrixInt a, long n)\\n        {\\n            MatrixInt result = new MatrixInt(a.Size);\\n\\n            while (n > 0)\\n            {\\n                if ((n & 1) != 0)\\n                {\\n                    result *= a;\\n                }\\n\\n                a *= a;\\n                n >>= 1;\\n            }\\n\\n            return result;\\n        }\\n\\n        public static long Gcd(long a, long b)\\n        {\\n            return b == 0 ? a : Gcd(b, a % b);\\n        }\\n\\n        public static long ExtendedGcd(long a, long b, out long x, out long y)\\n        {\\n            if (b == 0)\\n            {\\n                x = 1;\\n                y = 0;\\n                return a;\\n            }\\n\\n            long x1;\\n            long y1;\\n            long d = ExtendedGcd(b, a % b, out x1, out y1);\\n            x = y1;\\n            y = x1 - (a / b) * y1;\\n            return d;\\n        }\\n\\n        public static long Lcm(long a, long b)\\n        {\\n            return (a / Gcd(a, b)) * b;\\n        }\\n\\n        public static bool[] GetPrimes(int n)\\n        {\\n            n = Math.Max(n, 2);\\n            bool[] prime = new bool[n + 1];\\n            for (int i = 2; i <= n; i++)\\n            {\\n                prime[i] = true;\\n            }\\n\\n            for (int i = 2; i * i <= n; i++)\\n            {\\n                if (prime[i])\\n                {\\n                    if ((long)i * i <= n)\\n                    {\\n                        for (int j = i * i; j <= n; j += i)\\n                        {\\n                            prime[j] = false;\\n                        }\\n                    }\\n                }\\n            }\\n\\n            return prime;\\n        }\\n\\n        public static long GetFibonacciNumber(long n, long mod = 0)\\n        {\\n            long[,] matrix = new long[,] { { 0, 0, 0 }, { 0, 0, 1 }, { 0, 1, 1 } };\\n\\n            MatrixInt result = MatrixBinPower(new MatrixInt(matrix, mod), n);\\n\\n            return result[2, 2];\\n        }\\n\\n        public static long[] GetFibonacciSequence(int n)\\n        {\\n            long[] result = new long[n];\\n            result[0] = result[1] = 1;\\n\\n            for (int i = 2; i < n; i++)\\n            {\\n                result[i] = result[i - 1] + result[i - 2];\\n            }\\n\\n            return result;\\n        }\\n\\n        public static long GetInverseElement(long a, long mod)\\n        {\\n            long x, y;\\n            long g = ExtendedGcd(a, mod, out x, out y);\\n\\n            if (g != 1)\\n            {\\n                return -1;\\n            }\\n\\n            return ((x % mod) + mod) % mod;\\n        }\\n\\n        public static long[] GetAllInverseElements(long mod)\\n        {\\n            long[] result = new long[mod];\\n            result[1] = 1;\\n            for (int i = 2; i < mod; i++)\\n            {\\n                result[i] = (mod - (((mod / i) * result[mod % i]) % mod)) % mod;\\n            }\\n\\n            return result;\\n        }\\n    }\\n\\n    internal static class Reader\\n    {\\n        public static void ReadInt(out int a)\\n        {\\n            int[] number = new int[1];\\n            ReadInt(number);\\n            a = number[0];\\n        }\\n\\n        public static void ReadInt(out int a, out int b)\\n        {\\n            int[] numbers = new int[2];\\n            ReadInt(numbers);\\n            a = numbers[0];\\n            b = numbers[1];\\n        }\\n\\n        public static void ReadInt(out int int1, out int int2, out int int3)\\n        {\\n            int[] numbers = new int[3];\\n            ReadInt(numbers);\\n            int1 = numbers[0];\\n            int2 = numbers[1];\\n            int3 = numbers[2];\\n        }\\n\\n        public static void ReadInt(out int int1, out int int2, out int int3, out int int4)\\n        {\\n            int[] numbers = new int[4];\\n            ReadInt(numbers);\\n            int1 = numbers[0];\\n            int2 = numbers[1];\\n            int3 = numbers[2];\\n            int4 = numbers[3];\\n        }\\n\\n        public static void ReadLong(out long a)\\n        {\\n            long[] number = new long[1];\\n            ReadLong(number);\\n            a = number[0];\\n        }\\n\\n        public static void ReadLong(out long a, out long b)\\n        {\\n            long[] numbers = new long[2];\\n            ReadLong(numbers);\\n            a = numbers[0];\\n            b = numbers[1];\\n        }\\n\\n        public static void ReadLong(out long int1, out long int2, out long int3)\\n        {\\n            long[] numbers = new long[3];\\n            ReadLong(numbers);\\n            int1 = numbers[0];\\n            int2 = numbers[1];\\n            int3 = numbers[2];\\n        }\\n\\n        public static void ReadLong(out long int1, out long int2, out long int3, out long int4)\\n        {\\n            long[] numbers = new long[4];\\n            ReadLong(numbers);\\n            int1 = numbers[0];\\n            int2 = numbers[1];\\n            int3 = numbers[2];\\n            int4 = numbers[3];\\n        }\\n\\n        public static void ReadInt(int[] numbers)\\n        {\\n            // ReSharper disable PossibleNullReferenceException\\n            var list = Console.ReadLine().Split();\\n            // ReSharper restore PossibleNullReferenceException\\n\\n            int count = Math.Min(numbers.Length, list.Length);\\n\\n            for (int i = 0; i < count; i++)\\n            {\\n                numbers[i] = int.Parse(list[i]);\\n            }\\n        }\\n\\n        public static int[] ReadDigits()\\n        {\\n            // ReSharper disable AssignNullToNotNullAttribute\\n            return Console.ReadLine().Select(x => int.Parse(x.ToString())).ToArray();\\n            // ReSharper restore AssignNullToNotNullAttribute\\n        }\\n\\n        public static void ReadLong(long[] numbers)\\n        {\\n            // ReSharper disable PossibleNullReferenceException\\n            var list = Console.ReadLine().Split();\\n            // ReSharper restore PossibleNullReferenceException\\n\\n            int count = Math.Min(numbers.Length, list.Length);\\n\\n            for (int i = 0; i < count; i++)\\n            {\\n                numbers[i] = long.Parse(list[i]);\\n            }\\n        }\\n\\n        public static void ReadDouble(double[] numbers)\\n        {\\n            // ReSharper disable PossibleNullReferenceException\\n            var list = Console.ReadLine().Split();\\n            // ReSharper restore PossibleNullReferenceException\\n\\n            int count = Math.Min(numbers.Length, list.Length);\\n\\n            for (int i = 0; i < count; i++)\\n            {\\n                numbers[i] = double.Parse(list[i]);\\n            }\\n        }\\n\\n        public static void ReadDouble(out double a, out double b)\\n        {\\n            double[] numbers = new double[2];\\n            ReadDouble(numbers);\\n            a = numbers[0];\\n            b = numbers[1];\\n        }\\n\\n        public static void ReadDouble(out double int1, out double int2, out double int3)\\n        {\\n            double[] numbers = new double[3];\\n            ReadDouble(numbers);\\n            int1 = numbers[0];\\n            int2 = numbers[1];\\n            int3 = numbers[2];\\n        }\\n    }\\n\\n    static class MyMath\\n    {\\n        public static int GetMinimalPrimeDivisor(int n)\\n        {            \\n            for (int i = 2; i * i <= n; i++)\\n            {\\n                if (n % i == 0)\\n                {\\n                    return i;\\n                }\\n            }\\n\\n            return n;\\n        }\\n\\n        public static long Sqr(long x)\\n        {\\n            return x * x;\\n        }\\n    }\\n\\n    public interface IGraph\\n    {\\n        int Vertices  { get; set; }\\n\\n        IList<int> this[int i] { get; }\\n\\n        void AddEdge(int u, int v);\\n\\n        void AddOrientedEdge(int u, int v);        \\n    }\\n\\n    public class Graph : IGraph\\n    {\\n        private List<int>[] m_Edges;\\n\\n        public int Vertices { get; set; }\\n\\n        public IList<int> this[int i]\\n        {\\n            get\\n            {\\n                return this.m_Edges[i];\\n            }\\n        }\\n\\n        public Graph(int vertices)\\n        {\\n            this.Vertices = vertices;\\n\\n            this.m_Edges = new List<int>[vertices];\\n\\n            for (int i = 0; i < vertices; i++)\\n            {\\n                this.m_Edges[i] = new List<int>();\\n            }\\n        }\\n\\n        public void AddEdge(int u, int v)\\n        {\\n            this.AddOrientedEdge(u, v);\\n            this.AddOrientedEdge(v, u);\\n        }\\n\\n        public void AddOrientedEdge(int first, int second)\\n        {\\n            this.m_Edges[first].Add(second);            \\n        }\\n\\n        public int[] Bfs(int start)\\n        {\\n            int[] d = new int[Vertices];\\n            for (int i = 0; i < Vertices; i++)\\n            {\\n                d[i] = -1;\\n            }\\n\\n            Queue<int> queue = new Queue<int>();\\n            queue.Enqueue(start);\\n            d[start] = 0;\\n\\n            while (queue.Count > 0)\\n            {\\n                int v = queue.Dequeue();\\n                foreach (int t in this.m_Edges[v].Where(t => d[t] == -1))\\n                {\\n                    queue.Enqueue(t);\\n                    d[t] = d[v] + 1;\\n                }\\n            }\\n\\n            return d;\\n        }\\n    }    \\n\\n    class SimpleSumTable\\n    {\\n        private readonly int[,] m_Sum;\\n\\n        public SimpleSumTable(int n, int m, int[,] table)\\n        {\\n            m_Sum = new int[n + 1, m + 1];\\n\\n            for (int i = 1; i < n + 1; i++)\\n            {\\n                for (int j = 1; j < m + 1; j++)\\n                {\\n                    m_Sum[i, j] = m_Sum[i, j - 1] + m_Sum[i - 1, j] - m_Sum[i - 1, j - 1] + table[i, j];\\n                }\\n            }\\n        }\\n\\n        public int GetSum(int l, int b, int r, int t)\\n        {\\n            return m_Sum[r, t] - m_Sum[r, b] - m_Sum[l, t] + m_Sum[l, b];\\n        }\\n    }\\n\\n    class SegmentTreeSimpleInt<T>\\n    {\\n        public int Size { get; private set; }\\n\\n        private readonly T[] m_Tree;\\n\\n        private Func<T, T, T> m_Operation;\\n\\n        private T m_Null;\\n\\n        public SegmentTreeSimpleInt(int size, Func<T, T, T> operation, T nullElement, IList<T> array = null)\\n        {\\n            this.Size = size;\\n            this.m_Operation = operation;\\n            this.m_Null = nullElement;\\n\\n            m_Tree = new T[4 * size];\\n            if (array != null)\\n            {\\n                this.Build(array, 1, 0, size - 1);                \\n            }\\n        }\\n\\n        private void Build(IList<T> array, int v, int tl, int tr)\\n        {\\n            if (tl == tr)\\n            {\\n                m_Tree[v] = array[tl];\\n            }\\n            else\\n            {\\n                int tm = (tl + tr) / 2;\\n                this.Build(array, 2 * v, tl, tm);\\n                this.Build(array, 2 * v + 1, tm + 1, tr);\\n                this.CalculateNode(v);\\n            }\\n        }\\n\\n        public T GetSum(int l, int r)\\n        {\\n            return GetSum(1, 0, Size - 1, l, r);\\n        }\\n\\n        private T GetSum(int v, int tl, int tr, int l, int r)\\n        {\\n            if (l > r)\\n            {\\n                return m_Null;\\n            }\\n\\n            if (l == tl && r == tr)\\n            {\\n                return m_Tree[v];\\n            }\\n\\n            int tm = (tl + tr) / 2;\\n\\n            return this.m_Operation(GetSum(2 * v, tl, tm, l, Math.Min(r, tm)),GetSum(2 * v + 1, tm + 1, tr, Math.Max(l, tm + 1), r));\\n        }\\n\\n        public void Update(int pos, T newValue)\\n        {\\n            Update(1, 0, Size - 1, pos, newValue);\\n        }\\n\\n        private void Update(int v, int tl, int tr, int pos, T newValue)\\n        {\\n            if (tl == tr)\\n            {\\n                m_Tree[v] = newValue;\\n            }\\n            else\\n            {\\n                int tm = (tl + tr) / 2;\\n                if (pos <= tm)\\n                {\\n                    Update(2 * v, tl, tm, pos, newValue);\\n                }\\n                else\\n                {\\n                    Update(2 * v + 1, tm + 1, tr, pos, newValue);\\n                }\\n                this.CalculateNode(v);\\n            }\\n        }\\n\\n        private void CalculateNode(int v)\\n        {\\n            m_Tree[v] = this.m_Operation(m_Tree[2 * v], m_Tree[2 * v + 1]);\\n        }\\n    }\\n\\n    struct Pair<TFirst, TSecond>\\n    {\\n        public Pair(TFirst first, TSecond second)\\n            : this()\\n        {\\n            this.First = first;\\n            this.Second = second;\\n        }\\n\\n        public TFirst First { set; get; }\\n\\n        public TSecond Second { set; get; }\\n    }\\n\\n    class Program\\n    {                \\n        private static StreamReader m_InputStream;\\n\\n        private static StreamWriter m_OutStream;\\n\\n        private static void OpenFiles()\\n        {\\n            m_InputStream = File.OpenText(\"input.txt\");\\n            Console.SetIn(m_InputStream);\\n\\n            m_OutStream = File.CreateText(\"output.txt\");\\n            Console.SetOut(m_OutStream);\\n        }\\n\\n        private static void CloseFiles()\\n        {\\n            m_OutStream.Flush();\\n\\n            m_InputStream.Dispose();\\n            m_OutStream.Dispose();\\n        }\\n\\n        static void Main()\\n        {\\n            //OpenFiles();\\n\\n            new Solution().Solve();\\n\\n            //CloseFiles();\\n        }\\n    }\\n\\n    internal class Solution\\n    {\\n        public void Solve()\\n        {\\n            int n;\\n            Reader.ReadInt(out n);\\n            \\n            long[] p = new long[n];\\n            Reader.ReadLong(p);\\n\\n            long[] c = new long[5];\\n            Reader.ReadLong(c);\\n\\n            long current = 0;\\n            long[] ans = new long[5];\\n\\n            for (int i = 0; i < n; i++)\\n            {\\n                current += p[i];\\n                for (int j = 4; j >= 0; j--)\\n                {\\n                    ans[j] += current / c[j];\\n                    current = current % c[j];\\n                }\\n            }\\n\\n            for (int i = 0; i < 5; i++)\\n            {\\n                Console.Write(\"{0} \", ans[i]);\\n            }\\n            Console.WriteLine();\\n            Console.Write(current);\\n        }\\n    }\\n}\\n',\n",
       " 'time_baseline_perf': 0.2174193548,\n",
       " 'task_description': 'Vasya, like many others, likes to participate in a variety of sweepstakes and lotteries. Now he collects wrappings from a famous chocolate bar \"Jupiter\". According to the sweepstake rules, each wrapping has an integer written on it — the number of points that the participant adds to his score as he buys the bar. After a participant earns a certain number of points, he can come to the prize distribution center and exchange the points for prizes. When somebody takes a prize, the prize\\'s cost is simply subtracted from the number of his points.Vasya didn\\'t only bought the bars, he also kept a record of how many points each wrapping cost. Also, he remembers that he always stucks to the greedy strategy — as soon as he could take at least one prize, he went to the prize distribution centre and exchanged the points for prizes. Moreover, if he could choose between multiple prizes, he chose the most expensive one. If after an exchange Vasya had enough points left to get at least one more prize, then he continued to exchange points.The sweepstake has the following prizes (the prizes are sorted by increasing of their cost):   a mug (costs a points),  a towel (costs b points),  a bag (costs c points),  a bicycle (costs d points),  a car (costs e points). Now Vasya wants to recollect what prizes he has received. You know sequence p1,p2,...,pn, where pi is the number of points Vasya got for the i-th bar. The sequence of points is given in the chronological order. You also know numbers a, b, c, d, e. Your task is to find, how many prizes Vasya received, what prizes they are and how many points he\\'s got left after all operations are completed.',\n",
       " 'testcases': [{'exec_outcome': 'PASSED',\n",
       "   'input': '3\\n3 10 4\\n2 4 10 15 20\\n',\n",
       "   'output': ['1 1 1 0 0 \\n1\\n'],\n",
       "   'result': '1 1 1 0 0 \\n1'},\n",
       "  {'exec_outcome': 'PASSED',\n",
       "   'input': '4\\n10 4 39 2\\n3 5 10 11 12\\n',\n",
       "   'output': ['3 0 1 0 3 \\n0\\n'],\n",
       "   'result': '3 0 1 0 3 \\n0'},\n",
       "  {'exec_outcome': 'PASSED',\n",
       "   'input': '1\\n45\\n1 2 3 4 5\\n',\n",
       "   'output': ['0 0 0 0 9 \\n0\\n'],\n",
       "   'result': '0 0 0 0 9 \\n0'},\n",
       "  {'exec_outcome': 'PASSED',\n",
       "   'input': '1\\n50\\n1 2 4 5 6\\n',\n",
       "   'output': ['0 1 0 0 8 \\n0\\n'],\n",
       "   'result': '0 1 0 0 8 \\n0'},\n",
       "  {'exec_outcome': 'PASSED',\n",
       "   'input': '1\\n6\\n1 2 4 6 7\\n',\n",
       "   'output': ['0 0 0 1 0 \\n0\\n'],\n",
       "   'result': '0 0 0 1 0 \\n0'},\n",
       "  {'exec_outcome': 'PASSED',\n",
       "   'input': '1\\n11\\n1 2 3 6 8\\n',\n",
       "   'output': ['0 0 1 0 1 \\n0\\n'],\n",
       "   'result': '0 0 1 0 1 \\n0'},\n",
       "  {'exec_outcome': 'PASSED',\n",
       "   'input': '45\\n54672703 354223499 798425228 192616902 934526477 130046515 120969797 1128116 221465324 487958664 211577865 653388287 538234 467693667 387627267 811104156 26715905 108515494 288069433 106690737 712686358 683861047 56548860 385125409 178325602 329144983 320699771 611743158 176982141 882718242 574909811 18981354 497482742 126502373 342328066 970474066 352019823 333022487 625437081 18635432 354739941 509867062 781623566 885791347 684953358\\n1 2 3 4 5\\n',\n",
       "   'output': ['10 15 9 7 3554511651 \\n0\\n'],\n",
       "   'result': '10 15 9 7 3554511651 \\n0'},\n",
       "  {'exec_outcome': 'PASSED',\n",
       "   'input': '5\\n43 4 16 36 41\\n5 6 7 8 9\\n',\n",
       "   'output': ['0 0 2 0 14 \\n0\\n'],\n",
       "   'result': '0 0 2 0 14 \\n0'},\n",
       "  {'exec_outcome': 'PASSED',\n",
       "   'input': '5\\n6 6 47 32 28\\n1 2 6 9 11\\n',\n",
       "   'output': ['2 1 3 1 8 \\n0\\n'],\n",
       "   'result': '2 1 3 1 8 \\n0'},\n",
       "  {'exec_outcome': 'PASSED',\n",
       "   'input': '5\\n30 25 31 47 40\\n1 3 6 13 20\\n',\n",
       "   'output': ['6 3 3 0 7 \\n0\\n'],\n",
       "   'result': '6 3 3 0 7 \\n0'},\n",
       "  {'exec_outcome': 'PASSED',\n",
       "   'input': '10\\n588141495 24894836 162095938 610922780 767639361 522148294 556163403 302924834 618125209 410537083\\n1 2 3 4 5\\n',\n",
       "   'output': ['2 0 3 3 912718642 \\n0\\n'],\n",
       "   'result': '2 0 3 3 912718642 \\n0'},\n",
       "  {'exec_outcome': 'PASSED',\n",
       "   'input': '10\\n5 37 8 21 10 13 36 4 40 26\\n3 5 6 7 10\\n',\n",
       "   'output': ['1 2 1 3 16 \\n0\\n'],\n",
       "   'result': '1 2 1 3 16 \\n0'},\n",
       "  {'exec_outcome': 'PASSED',\n",
       "   'input': '10\\n3 25 17 20 25 26 15 35 47 16\\n5 8 11 14 15\\n',\n",
       "   'output': ['1 1 3 0 12 \\n3\\n'],\n",
       "   'result': '1 1 3 0 12 \\n3'},\n",
       "  {'exec_outcome': 'PASSED',\n",
       "   'input': '10\\n1 10 34 9 49 42 45 8 42 7\\n2 6 11 13 14\\n',\n",
       "   'output': ['5 5 1 0 14 \\n0\\n'],\n",
       "   'result': '5 5 1 0 14 \\n0'},\n",
       "  {'exec_outcome': 'PASSED',\n",
       "   'input': '15\\n13 44 13 13 38 25 43 25 40 28 5 23 25 41 6\\n1 2 3 4 5\\n',\n",
       "   'output': ['2 0 7 1 71 \\n0\\n'],\n",
       "   'result': '2 0 7 1 71 \\n0'},\n",
       "  {'exec_outcome': 'PASSED',\n",
       "   'input': '15\\n195995511 767544072 924890005 342377584 638748004 904551320 222776859 921356712 204326392 225923474 90658415 610365756 971907038 41090763 853207872\\n5 7 8 9 10\\n',\n",
       "   'output': ['3 0 3 2 791571972 \\n0\\n'],\n",
       "   'result': '3 0 3 2 791571972 \\n0'},\n",
       "  {'exec_outcome': 'PASSED',\n",
       "   'input': '15\\n14 19 5 16 11 22 40 7 13 21 24 26 49 22 26\\n1 2 7 8 9\\n',\n",
       "   'output': ['4 19 2 2 27 \\n0\\n'],\n",
       "   'result': '4 19 2 2 27 \\n0'},\n",
       "  {'exec_outcome': 'PASSED',\n",
       "   'input': '15\\n5 41 46 48 22 49 5 37 10 4 19 2 16 32 24\\n2 11 15 18 20\\n',\n",
       "   'output': ['30 1 2 1 12 \\n1\\n'],\n",
       "   'result': '30 1 2 1 12 \\n1'},\n",
       "  {'exec_outcome': 'PASSED',\n",
       "   'input': '15\\n50 12 36 11 38 28 4 11 29 34 22 46 43 2 29\\n7 8 10 17 23\\n',\n",
       "   'output': ['1 0 6 3 12 \\n1\\n'],\n",
       "   'result': '1 0 6 3 12 \\n1'},\n",
       "  {'exec_outcome': 'PASSED',\n",
       "   'input': '15\\n676837988 94471701 777591167 399710490 409807125 414445437 8315750 102835211 36239666 141260442 589733329 572072035 789807197 431009789 123234386\\n20 39 45 46 48\\n',\n",
       "   'output': ['5 2 1 0 115986906 \\n2\\n'],\n",
       "   'result': '5 2 1 0 115986906 \\n2'},\n",
       "  {'exec_outcome': 'PASSED',\n",
       "   'input': '25\\n26 29 17 11 35 21 11 22 17 24 41 44 27 34 42 24 44 3 8 25 23 6 16 41 2\\n1 2 3 4 5\\n',\n",
       "   'output': ['8 6 3 6 108 \\n0\\n'],\n",
       "   'result': '8 6 3 6 108 \\n0'},\n",
       "  {'exec_outcome': 'PASSED',\n",
       "   'input': '25\\n46 37 12 28 16 9 26 12 31 49 28 23 39 49 21 40 1 31 8 6 33 46 4 12 20\\n5 6 7 8 10\\n',\n",
       "   'output': ['1 2 2 3 57 \\n2\\n'],\n",
       "   'result': '1 2 2 3 57 \\n2'},\n",
       "  {'exec_outcome': 'PASSED',\n",
       "   'input': '25\\n48 3 22 29 40 21 28 31 22 16 17 3 47 37 38 15 16 27 41 48 17 11 22 15 15\\n10 11 12 13 15\\n',\n",
       "   'output': ['1 1 1 2 38 \\n0\\n'],\n",
       "   'result': '1 1 1 2 38 \\n0'},\n",
       "  {'exec_outcome': 'PASSED',\n",
       "   'input': '49\\n150841996 278751430 236103841 373294104 702072537 197872718 286517088 985323686 816421587 49928785 500114241 47334350 280942286 86728792 606895563 70696090 770589765 492645787 250574857 747511645 224488546 90659419 587972065 281798558 133719196 726362846 487266436 311413921 795767163 779792904 646907905 87907470 461431159 273590163 584894453 408543297 215247358 47704043 300890973 570589101 134168725 904691113 260042124 834209517 554685974 348043433 100083255 966828009 508031511\\n1 2 3 4 5\\n',\n",
       "   'output': ['12 7 12 7 4111778339 \\n0\\n'],\n",
       "   'result': '12 7 12 7 4111778339 \\n0'},\n",
       "  {'exec_outcome': 'PASSED',\n",
       "   'input': '25\\n43 34 26 43 11 13 34 8 6 25 39 41 21 34 27 12 11 1 36 45 47 12 18 43 38\\n1 2 10 24 25\\n',\n",
       "   'output': ['11 46 19 0 15 \\n0\\n'],\n",
       "   'result': '11 46 19 0 15 \\n0'},\n",
       "  {'exec_outcome': 'PASSED',\n",
       "   'input': '25\\n38 30 40 7 7 18 43 5 29 49 50 9 4 18 30 35 21 22 15 33 9 31 32 22 6\\n2 14 15 40 48\\n',\n",
       "   'output': ['48 0 22 2 2 \\n1\\n'],\n",
       "   'result': '48 0 22 2 2 \\n1'},\n",
       "  {'exec_outcome': 'PASSED',\n",
       "   'input': '50\\n667406402 354775600 95220950 604569294 945922983 82947113 120853697 25192357 911801905 8804755 572528228 687361070 180664274 949243037 5283222 74969288 23627567 882714363 413386071 937062768 916521072 864701923 328941225 17876118 770879655 928962609 331124489 236187404 878629850 202558122 227732104 296494363 555832750 391788125 553472395 587090096 991781042 382982437 764518939 870576820 596491334 48319052 813976810 545209721 619789095 955839818 282149347 476620368 134986392 655856299\\n1 2 3 4 5\\n',\n",
       "   'output': ['3 13 11 9 4954444924 \\n0\\n'],\n",
       "   'result': '3 13 11 9 4954444924 \\n0'},\n",
       "  {'exec_outcome': 'PASSED',\n",
       "   'input': '50\\n7 33 16 27 6 26 21 46 28 43 34 28 44 21 40 32 47 47 29 22 25 18 31 18 37 3 47 43 37 25 33 10 29 43 44 33 45 14 43 5 27 25 35 20 9 13 49 9 21 26\\n3 4 5 7 9\\n',\n",
       "   'output': ['4 6 6 15 138 \\n1\\n'],\n",
       "   'result': '4 6 6 15 138 \\n1'},\n",
       "  {'exec_outcome': 'PASSED',\n",
       "   'input': '45\\n18 21 6 3 48 23 5 26 37 6 49 6 42 19 8 39 38 47 36 22 13 21 14 32 43 42 5 30 35 36 16 34 32 8 1 37 14 29 39 50 25 26 10 25 39\\n1 6 7 8 14\\n',\n",
       "   'output': ['77 5 4 19 62 \\n0\\n'],\n",
       "   'result': '77 5 4 19 62 \\n0'},\n",
       "  {'exec_outcome': 'PASSED',\n",
       "   'input': '45\\n28 28 3 4 7 34 44 2 8 7 20 29 27 49 20 33 11 31 47 38 41 40 11 16 5 20 12 47 49 25 25 6 40 3 2 3 32 38 34 21 28 48 12 39 43\\n9 10 12 14 20\\n',\n",
       "   'output': ['4 5 2 8 44 \\n8\\n'],\n",
       "   'result': '4 5 2 8 44 \\n8'},\n",
       "  {'exec_outcome': 'PASSED',\n",
       "   'input': '50\\n17 30 29 29 50 42 15 18 34 10 30 3 44 11 4 35 42 8 14 41 30 4 11 1 3 23 7 28 35 6 24 37 6 12 8 7 36 40 41 26 13 46 15 40 32 34 15 28 46 31\\n20 24 40 46 50\\n',\n",
       "   'output': ['4 11 9 5 5 \\n7\\n'],\n",
       "   'result': '4 11 9 5 5 \\n7'}],\n",
       " 'optimization_0': '',\n",
       " 'optimization_1': '',\n",
       " 'optimization_2': '',\n",
       " 'optimization_3': '',\n",
       " 'optimization_4': ''}"
      ]
     },
     "execution_count": 68,
     "metadata": {},
     "output_type": "execute_result"
    }
   ],
   "source": [
    "empty_rows(time_ds)[0]"
   ]
  },
  {
   "cell_type": "markdown",
   "metadata": {},
   "source": [
    "llama2"
   ]
  },
  {
   "cell_type": "code",
   "execution_count": 69,
   "metadata": {},
   "outputs": [],
   "source": [
    "mem_path = \"./mem_code_opt_data_llama2.jsonl\"\n",
    "time_path = \"./time_code_opt_data_llama2.jsonl\"\n",
    "mem_ds = load_dataset(\"json\", data_files=mem_path, split=\"train\")\n",
    "time_ds = load_dataset(\"json\", data_files=time_path, split=\"train\")\n",
    "empty_mem_ds = empty_rows(mem_ds)\n",
    "empty_time_ds = empty_rows(time_ds)"
   ]
  },
  {
   "cell_type": "code",
   "execution_count": 71,
   "metadata": {},
   "outputs": [
    {
     "name": "stdout",
     "output_type": "stream",
     "text": [
      "a17bac596b1f060209534cbffdf0f40e GNU C\n",
      "c23d3ec2b9fb4b4d169bc8053bfd000e GNU C++\n",
      "00480885be97002dca98fe98a4238aee GNU C++\n",
      "369f37d3487ba8c158e24f5ca759287b GNU C++\n",
      "1d73b315694f2ebbf796654193372730 GNU C++\n",
      "566adc43d2d6df257c26c5f5495a5745 GNU C++\n",
      "cb47d710361979de0f975cc34fc22c7a GNU C++\n",
      "f8315dc903b0542c453cab4577bcb20d Mono C#\n",
      "a6cba17c5ddb93f6741e00280fb6c54c Mono C#\n",
      "c175d010d75c391d0b25391fecff007c Mono C#\n"
     ]
    }
   ],
   "source": [
    "for d in empty_mem_ds:\n",
    "    print(d['src_uid'], d['lang'])"
   ]
  },
  {
   "cell_type": "code",
   "execution_count": 72,
   "metadata": {},
   "outputs": [
    {
     "name": "stdout",
     "output_type": "stream",
     "text": [
      "1ae2942b72ebb7c55359c41e141900d7 Python 3\n",
      "a17bac596b1f060209534cbffdf0f40e GNU C\n",
      "00480885be97002dca98fe98a4238aee GNU C++\n",
      "369f37d3487ba8c158e24f5ca759287b GNU C++\n",
      "dfd0814d912a7f2dfe31744ad1c778ae GNU C++\n",
      "970cd8ce0cf7214b7f2be337990557c9 GNU C++\n",
      "1d73b315694f2ebbf796654193372730 GNU C++\n",
      "a6cba17c5ddb93f6741e00280fb6c54c GNU C++\n",
      "ffa25047060e4741d8eddf2b91b1ca23 GNU C++\n",
      "a6cba17c5ddb93f6741e00280fb6c54c Mono C#\n",
      "1ae2942b72ebb7c55359c41e141900d7 Mono C#\n"
     ]
    }
   ],
   "source": [
    "for d in empty_time_ds:\n",
    "    print(d['src_uid'], d['lang'])"
   ]
  },
  {
   "cell_type": "code",
   "execution_count": 75,
   "metadata": {},
   "outputs": [
    {
     "data": {
      "text/plain": [
       "11"
      ]
     },
     "execution_count": 75,
     "metadata": {},
     "output_type": "execute_result"
    }
   ],
   "source": [
    "len(empty_time_ds)"
   ]
  },
  {
   "cell_type": "code",
   "execution_count": null,
   "metadata": {},
   "outputs": [],
   "source": []
  }
 ],
 "metadata": {
  "kernelspec": {
   "display_name": "Python 3 (ipykernel)",
   "language": "python",
   "name": "python3"
  }
 },
 "nbformat": 4,
 "nbformat_minor": 2
}
